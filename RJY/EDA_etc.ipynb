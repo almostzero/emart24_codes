{
 "metadata": {
  "language_info": {
   "codemirror_mode": {
    "name": "ipython",
    "version": 3
   },
   "file_extension": ".py",
   "mimetype": "text/x-python",
   "name": "python",
   "nbconvert_exporter": "python",
   "pygments_lexer": "ipython3",
   "version": "3.8.10"
  },
  "orig_nbformat": 4,
  "kernelspec": {
   "name": "python3",
   "display_name": "Python 3.8.10 64-bit ('cuda10': conda)"
  },
  "interpreter": {
   "hash": "3554aee79226d4ba54a5237f8c8fea284d26f1bc7379ba4f2cd4dc7428f97bad"
  }
 },
 "nbformat": 4,
 "nbformat_minor": 2,
 "cells": [
  {
   "cell_type": "code",
   "execution_count": 3,
   "metadata": {},
   "outputs": [],
   "source": [
    "import pandas as pd"
   ]
  },
  {
   "cell_type": "code",
   "execution_count": 4,
   "metadata": {},
   "outputs": [],
   "source": [
    "df = pd.read_excel('./[대한상공회의소_바코드정보_가공식품] 샘플파일.xlsx')"
   ]
  },
  {
   "cell_type": "code",
   "execution_count": 8,
   "metadata": {},
   "outputs": [
    {
     "output_type": "execute_result",
     "data": {
      "text/plain": [
       "            GTIN            GLN       DSCRGTINK      NPNAME     CONAMEK  \\\n",
       "0  8804342541014  8804342000016  중앙 복숭아맛 분말 1kg  중앙 복숭아맛 분말     중앙식품산업사   \n",
       "1  8801007641034  8801007000015     백설 양조식초1.8L     백설 양조식초  씨제이제일제당(주)   \n",
       "2  8801007034676  8801007000015  CJ 햇반 리조또 275g   CJ 햇반 리조또  씨제이제일제당(주)   \n",
       "\n",
       "                      CONAMEE DSCRBRANDK        COUNTRYDESCR DSTARTAVAILABLE  \\\n",
       "0  JOONGANG FOOD INDUSTRY CO.  중앙 복숭아맛분말  KOREA, REPUBLIC OF      1996-02-14   \n",
       "1     CJ CHEILJEDANG CO.,LTD.        NaN  KOREA, REPUBLIC OF      2004-03-12   \n",
       "2     CJ CHEILJEDANG CO.,LTD.        NaN                 NaN      2005-08-23   \n",
       "\n",
       "          DSYSUPDATED  ... NETWEIGHTUOM GROSSWEIGHT GROSSWEIGHTUOMDESCR  \\\n",
       "0 2017-06-22 09:19:49  ...            G        1020                (그램)   \n",
       "1 2017-06-23 10:18:20  ...            G        1950                (그램)   \n",
       "2 2017-06-23 10:18:20  ...            G           0                 NaN   \n",
       "\n",
       "  GROSSWEIGHTUOM      BUSNID  PRODUCTURL  DATASOURCE PRGUBUN PACKGTIN  \\\n",
       "0              G  3020463063         NaN         NaN       S      NaN   \n",
       "1              G  1048609535         NaN         NaN       S      NaN   \n",
       "2            NaN  1048609535         NaN         NaN       S      NaN   \n",
       "\n",
       "   MENUFACT  \n",
       "0   중앙식품산업사  \n",
       "1       NaN  \n",
       "2       NaN  \n",
       "\n",
       "[3 rows x 41 columns]"
      ],
      "text/html": "<div>\n<style scoped>\n    .dataframe tbody tr th:only-of-type {\n        vertical-align: middle;\n    }\n\n    .dataframe tbody tr th {\n        vertical-align: top;\n    }\n\n    .dataframe thead th {\n        text-align: right;\n    }\n</style>\n<table border=\"1\" class=\"dataframe\">\n  <thead>\n    <tr style=\"text-align: right;\">\n      <th></th>\n      <th>GTIN</th>\n      <th>GLN</th>\n      <th>DSCRGTINK</th>\n      <th>NPNAME</th>\n      <th>CONAMEK</th>\n      <th>CONAMEE</th>\n      <th>DSCRBRANDK</th>\n      <th>COUNTRYDESCR</th>\n      <th>DSTARTAVAILABLE</th>\n      <th>DSYSUPDATED</th>\n      <th>...</th>\n      <th>NETWEIGHTUOM</th>\n      <th>GROSSWEIGHT</th>\n      <th>GROSSWEIGHTUOMDESCR</th>\n      <th>GROSSWEIGHTUOM</th>\n      <th>BUSNID</th>\n      <th>PRODUCTURL</th>\n      <th>DATASOURCE</th>\n      <th>PRGUBUN</th>\n      <th>PACKGTIN</th>\n      <th>MENUFACT</th>\n    </tr>\n  </thead>\n  <tbody>\n    <tr>\n      <th>0</th>\n      <td>8804342541014</td>\n      <td>8804342000016</td>\n      <td>중앙 복숭아맛 분말 1kg</td>\n      <td>중앙 복숭아맛 분말</td>\n      <td>중앙식품산업사</td>\n      <td>JOONGANG FOOD INDUSTRY CO.</td>\n      <td>중앙 복숭아맛분말</td>\n      <td>KOREA, REPUBLIC OF</td>\n      <td>1996-02-14</td>\n      <td>2017-06-22 09:19:49</td>\n      <td>...</td>\n      <td>G</td>\n      <td>1020</td>\n      <td>(그램)</td>\n      <td>G</td>\n      <td>3020463063</td>\n      <td>NaN</td>\n      <td>NaN</td>\n      <td>S</td>\n      <td>NaN</td>\n      <td>중앙식품산업사</td>\n    </tr>\n    <tr>\n      <th>1</th>\n      <td>8801007641034</td>\n      <td>8801007000015</td>\n      <td>백설 양조식초1.8L</td>\n      <td>백설 양조식초</td>\n      <td>씨제이제일제당(주)</td>\n      <td>CJ CHEILJEDANG CO.,LTD.</td>\n      <td>NaN</td>\n      <td>KOREA, REPUBLIC OF</td>\n      <td>2004-03-12</td>\n      <td>2017-06-23 10:18:20</td>\n      <td>...</td>\n      <td>G</td>\n      <td>1950</td>\n      <td>(그램)</td>\n      <td>G</td>\n      <td>1048609535</td>\n      <td>NaN</td>\n      <td>NaN</td>\n      <td>S</td>\n      <td>NaN</td>\n      <td>NaN</td>\n    </tr>\n    <tr>\n      <th>2</th>\n      <td>8801007034676</td>\n      <td>8801007000015</td>\n      <td>CJ 햇반 리조또 275g</td>\n      <td>CJ 햇반 리조또</td>\n      <td>씨제이제일제당(주)</td>\n      <td>CJ CHEILJEDANG CO.,LTD.</td>\n      <td>NaN</td>\n      <td>NaN</td>\n      <td>2005-08-23</td>\n      <td>2017-06-23 10:18:20</td>\n      <td>...</td>\n      <td>G</td>\n      <td>0</td>\n      <td>NaN</td>\n      <td>NaN</td>\n      <td>1048609535</td>\n      <td>NaN</td>\n      <td>NaN</td>\n      <td>S</td>\n      <td>NaN</td>\n      <td>NaN</td>\n    </tr>\n  </tbody>\n</table>\n<p>3 rows × 41 columns</p>\n</div>"
     },
     "metadata": {},
     "execution_count": 8
    }
   ],
   "source": [
    "df.head(3)"
   ]
  },
  {
   "cell_type": "code",
   "execution_count": 14,
   "metadata": {},
   "outputs": [
    {
     "output_type": "execute_result",
     "data": {
      "text/plain": [
       "(1439, 41)"
      ]
     },
     "metadata": {},
     "execution_count": 14
    }
   ],
   "source": [
    "df.shape"
   ]
  },
  {
   "cell_type": "code",
   "execution_count": 12,
   "metadata": {},
   "outputs": [
    {
     "output_type": "execute_result",
     "data": {
      "text/plain": [
       "Index(['GTIN', 'GLN', 'DSCRGTINK', 'NPNAME', 'CONAMEK', 'CONAMEE',\n",
       "       'DSCRBRANDK', 'COUNTRYDESCR', 'DSTARTAVAILABLE', 'DSYSUPDATED',\n",
       "       'IMGPATH1', 'IMGPATH2', 'IMGPATH3', 'IMGPATH4', 'PGURL', 'KANCLASSCODE',\n",
       "       'UNITNETCONT', 'UNITNETCONTUOMDESCR', 'UNITNETCONTUOM', 'UNITSINPACK',\n",
       "       'HEIGHT', 'HEIGHTUOMDESCR', 'HEIGHTUOM', 'WIDTH', 'WIDTHUOMDESCR',\n",
       "       'WIDTHUOM', 'DEPTH', 'DEPTHUOMDESCR', 'DEPTHUOM', 'NETWEIGHT',\n",
       "       'NETWEIGHTUOMDESCR', 'NETWEIGHTUOM', 'GROSSWEIGHT',\n",
       "       'GROSSWEIGHTUOMDESCR', 'GROSSWEIGHTUOM', 'BUSNID', 'PRODUCTURL',\n",
       "       'DATASOURCE', 'PRGUBUN', 'PACKGTIN', 'MENUFACT'],\n",
       "      dtype='object')"
      ]
     },
     "metadata": {},
     "execution_count": 12
    }
   ],
   "source": [
    "df.keys()"
   ]
  },
  {
   "source": [
    "- GTIN : 고유번호?\n",
    "- GLN : 카테고리 번호?\n",
    "- DSCRGTINK : 상세상품명\n",
    "- NPNAME : 상품명\n",
    "- CONAMEK : 유통사?(한글)\n",
    "- CONAMEE : 유통사?(영문)\n",
    "- COUNTRYDESCR : 제조국가\n",
    "- DSTARTAVAILABLE : DB 관련 정보\n",
    "- DSYSUPDATED : DB 관련 정보\n",
    "- IMGPATH1 : 이미지 경로 1\n",
    "- IMGPATH2 : 이미지 경로 2\n",
    "- IMGPATH3 : 이미지 경로 3\n",
    "- IMGPATH4 : 이미지 경로 4\n",
    "- PGURL : 상품설명 링크?\n",
    "- KANCLASSCODE : KAN? 코드\n",
    "- UNITNETCONT : 단위 값\n",
    "- UNITNETCONTUOMDESCR : 단위\n",
    "- UNITNETCONTUOM : 단위(영문)\n",
    "- UNITSINPACK : 낱개 포장?\n",
    "- HEIGHT : 높이 값\n",
    "- HEIGHTUOMDESCR : 높이 단위(한글)\n",
    "- HEIGHTUOM : 높이 단위(영문)\n",
    "- WIDTH : 가로 값\n",
    "- WIDTHUOMDESCR : 가로 단위(한글)\n",
    "- WIDTHUOM : 가로 단위(영문)\n",
    "- DEPTH : 세로 값\n",
    "- DEPTHUOMDESCR : 세로 단위(한글)\n",
    "- DEPTHUOM : 세로 단위(영문)\n",
    "- NETWEIGHT : 총 무게 값\n",
    "- NETWEIGHTUOMDESCR : 총 무게 단위(한글)\n",
    "- NETWEIGHTUOM : 총 무게 단위(영문)\n",
    "- GROSSWEIGHT : 전체 무게 값 (포장 포함?)\n",
    "- GROSSWEIGHTUOMDESCR : 전체 무게 단위(한글)\n",
    "- GROSSWEIGHTUOM : 전체 무게 단위(영문)\n",
    "- BUSNID : 어떤 코드...겹치는게 보임\n",
    "- PRODUCTURL : ?\n",
    "- DATASOURCE : ?\n",
    "- PRGUBUN : 단품(S), 패키지(P) 여부\n",
    "- PACKGTIN : ?\n",
    "- MENUFACT : 제조사\n"
   ],
   "cell_type": "markdown",
   "metadata": {}
  },
  {
   "cell_type": "code",
   "execution_count": 17,
   "metadata": {},
   "outputs": [
    {
     "output_type": "execute_result",
     "data": {
      "text/plain": [
       "               GTIN            GLN                        DSCRGTINK  \\\n",
       "65    8801007037783  8801007000015  CJ제일제당 둥근햇반210g 6번들 1260G x 1EA   \n",
       "67    8801007641034  8801007000015                      백설 양조식초1.8L   \n",
       "70    8801007040585  8801007000015             CJ 백설 스폰지 케익믹스 250*2   \n",
       "88    8801007092850  8801007000015                   백설유 라이트라 480ml   \n",
       "89    8801007092867  8801007000015                   백설유 라이트라 824ml   \n",
       "...             ...            ...                              ...   \n",
       "1429  8801094265205  8800999992827       한국코카콜라(유)  미닛메이드 오렌지 350ml   \n",
       "1433  8801114105313  8801114000014       풀무원 바로먹는도토리묵채냉국 863G x 1EA   \n",
       "1434  8809331506418  8809080400012            (주)아워홈 백합조개순두부찌개 350G   \n",
       "1435  8934563232146  8809485670010             ACECOOK  리얼포쌀국수컵 70G   \n",
       "1436  8809257828489  8809080400012           (주)아워홈 정성가득 황태해장국 500G   \n",
       "\n",
       "                 NPNAME     CONAMEK                          CONAMEE  \\\n",
       "65          CJ제일제당 둥근햇반  씨제이제일제당(주)          CJ CHEILJEDANG CO.,LTD.   \n",
       "67              백설 양조식초  씨제이제일제당(주)          CJ CHEILJEDANG CO.,LTD.   \n",
       "70       CJ 백설 스폰지 케익믹스  씨제이제일제당(주)          CJ CHEILJEDANG CO.,LTD.   \n",
       "88             백설유 라이트라  씨제이제일제당(주)          CJ CHEILJEDANG CO.,LTD.   \n",
       "89             백설유 라이트라  씨제이제일제당(주)          CJ CHEILJEDANG CO.,LTD.   \n",
       "...                 ...         ...                              ...   \n",
       "1429   코카콜라 유 미닛메이드 오렌지  (주)대광인터내셔날  Dae Kwang international company   \n",
       "1433  생가득 바로먹는 도토리묵채 냉국    풀무원식품(주)          PULMUONE FOODS CO.,LTD.   \n",
       "1434      아워홈 백합조개순두부찌개      (주)아워홈                     OURHOME LTD.   \n",
       "1435    ACECOOK 리얼포쌀국수컵     (주)하늘처럼                 Likesky Co.,Ltd.   \n",
       "1436     아워홈 정성가득 황태해장국      (주)아워홈                     OURHOME LTD.   \n",
       "\n",
       "     DSCRBRANDK        COUNTRYDESCR DSTARTAVAILABLE         DSYSUPDATED  ...  \\\n",
       "65          NaN  KOREA, REPUBLIC OF      2005-08-23 2017-06-23 10:18:20  ...   \n",
       "67          NaN  KOREA, REPUBLIC OF      2004-03-12 2017-06-23 10:18:20  ...   \n",
       "70          NaN                 NaN      2005-10-10 2017-06-23 10:18:20  ...   \n",
       "88          NaN               SPAIN      2008-07-10 2017-06-23 10:18:20  ...   \n",
       "89          NaN  KOREA, REPUBLIC OF      2008-07-10 2017-06-23 10:18:20  ...   \n",
       "...         ...                 ...             ...                 ...  ...   \n",
       "1429        NaN  KOREA, REPUBLIC OF             NaT 2017-06-21 15:51:01  ...   \n",
       "1433        생가득  KOREA, REPUBLIC OF      2006-06-22 2017-07-06 11:31:43  ...   \n",
       "1434        NaN  KOREA, REPUBLIC OF      2000-01-01 2017-10-23 10:28:21  ...   \n",
       "1435        NaN            VIET NAM             NaT 2017-10-12 11:08:39  ...   \n",
       "1436       국물취향  KOREA, REPUBLIC OF      2010-01-01 2017-10-23 10:27:35  ...   \n",
       "\n",
       "     NETWEIGHTUOM GROSSWEIGHT GROSSWEIGHTUOMDESCR GROSSWEIGHTUOM      BUSNID  \\\n",
       "65              G        1260                (그램)              G  1048609535   \n",
       "67              G        1950                (그램)              G  1048609535   \n",
       "70              G           0                 NaN            NaN  1048609535   \n",
       "88              G         491                (그램)              G  1048609535   \n",
       "89              G         878                (그램)              G  1048609535   \n",
       "...           ...         ...                 ...            ...         ...   \n",
       "1429            G         390                (그램)              G  2308106040   \n",
       "1433            G        1160                (그램)              G  3038151649   \n",
       "1434            G         370                (그램)              G  1078176324   \n",
       "1435            G         100                (그램)              G  6468700016   \n",
       "1436            G         510                (그램)              G  1078176324   \n",
       "\n",
       "                                             PRODUCTURL  DATASOURCE PRGUBUN  \\\n",
       "65                                                  NaN         NaN       S   \n",
       "67                                                  NaN         NaN       S   \n",
       "70                                                  NaN         NaN       S   \n",
       "88                                                  NaN         NaN       S   \n",
       "89                                                  NaN         NaN       S   \n",
       "...                                                 ...         ...     ...   \n",
       "1429                                                NaN         NaN       S   \n",
       "1433                                                NaN         NaN       S   \n",
       "1434  http://mall.ourhome.co.kr/mall/product/detail....         NaN       S   \n",
       "1435                                            http://         NaN       S   \n",
       "1436  http://mall.ourhome.co.kr/mall/product/detail....         NaN       S   \n",
       "\n",
       "     PACKGTIN   MENUFACT  \n",
       "65        NaN     CJ제일제당  \n",
       "67        NaN        NaN  \n",
       "70        NaN        NaN  \n",
       "88        NaN        NaN  \n",
       "89        NaN        NaN  \n",
       "...       ...        ...  \n",
       "1429      NaN  코카콜라음료(주)  \n",
       "1433      NaN    명광식품(주)  \n",
       "1434      NaN     (주)아워홈  \n",
       "1435      NaN   ACECOOK   \n",
       "1436      NaN     (주)아워홈  \n",
       "\n",
       "[202 rows x 41 columns]"
      ],
      "text/html": "<div>\n<style scoped>\n    .dataframe tbody tr th:only-of-type {\n        vertical-align: middle;\n    }\n\n    .dataframe tbody tr th {\n        vertical-align: top;\n    }\n\n    .dataframe thead th {\n        text-align: right;\n    }\n</style>\n<table border=\"1\" class=\"dataframe\">\n  <thead>\n    <tr style=\"text-align: right;\">\n      <th></th>\n      <th>GTIN</th>\n      <th>GLN</th>\n      <th>DSCRGTINK</th>\n      <th>NPNAME</th>\n      <th>CONAMEK</th>\n      <th>CONAMEE</th>\n      <th>DSCRBRANDK</th>\n      <th>COUNTRYDESCR</th>\n      <th>DSTARTAVAILABLE</th>\n      <th>DSYSUPDATED</th>\n      <th>...</th>\n      <th>NETWEIGHTUOM</th>\n      <th>GROSSWEIGHT</th>\n      <th>GROSSWEIGHTUOMDESCR</th>\n      <th>GROSSWEIGHTUOM</th>\n      <th>BUSNID</th>\n      <th>PRODUCTURL</th>\n      <th>DATASOURCE</th>\n      <th>PRGUBUN</th>\n      <th>PACKGTIN</th>\n      <th>MENUFACT</th>\n    </tr>\n  </thead>\n  <tbody>\n    <tr>\n      <th>65</th>\n      <td>8801007037783</td>\n      <td>8801007000015</td>\n      <td>CJ제일제당 둥근햇반210g 6번들 1260G x 1EA</td>\n      <td>CJ제일제당 둥근햇반</td>\n      <td>씨제이제일제당(주)</td>\n      <td>CJ CHEILJEDANG CO.,LTD.</td>\n      <td>NaN</td>\n      <td>KOREA, REPUBLIC OF</td>\n      <td>2005-08-23</td>\n      <td>2017-06-23 10:18:20</td>\n      <td>...</td>\n      <td>G</td>\n      <td>1260</td>\n      <td>(그램)</td>\n      <td>G</td>\n      <td>1048609535</td>\n      <td>NaN</td>\n      <td>NaN</td>\n      <td>S</td>\n      <td>NaN</td>\n      <td>CJ제일제당</td>\n    </tr>\n    <tr>\n      <th>67</th>\n      <td>8801007641034</td>\n      <td>8801007000015</td>\n      <td>백설 양조식초1.8L</td>\n      <td>백설 양조식초</td>\n      <td>씨제이제일제당(주)</td>\n      <td>CJ CHEILJEDANG CO.,LTD.</td>\n      <td>NaN</td>\n      <td>KOREA, REPUBLIC OF</td>\n      <td>2004-03-12</td>\n      <td>2017-06-23 10:18:20</td>\n      <td>...</td>\n      <td>G</td>\n      <td>1950</td>\n      <td>(그램)</td>\n      <td>G</td>\n      <td>1048609535</td>\n      <td>NaN</td>\n      <td>NaN</td>\n      <td>S</td>\n      <td>NaN</td>\n      <td>NaN</td>\n    </tr>\n    <tr>\n      <th>70</th>\n      <td>8801007040585</td>\n      <td>8801007000015</td>\n      <td>CJ 백설 스폰지 케익믹스 250*2</td>\n      <td>CJ 백설 스폰지 케익믹스</td>\n      <td>씨제이제일제당(주)</td>\n      <td>CJ CHEILJEDANG CO.,LTD.</td>\n      <td>NaN</td>\n      <td>NaN</td>\n      <td>2005-10-10</td>\n      <td>2017-06-23 10:18:20</td>\n      <td>...</td>\n      <td>G</td>\n      <td>0</td>\n      <td>NaN</td>\n      <td>NaN</td>\n      <td>1048609535</td>\n      <td>NaN</td>\n      <td>NaN</td>\n      <td>S</td>\n      <td>NaN</td>\n      <td>NaN</td>\n    </tr>\n    <tr>\n      <th>88</th>\n      <td>8801007092850</td>\n      <td>8801007000015</td>\n      <td>백설유 라이트라 480ml</td>\n      <td>백설유 라이트라</td>\n      <td>씨제이제일제당(주)</td>\n      <td>CJ CHEILJEDANG CO.,LTD.</td>\n      <td>NaN</td>\n      <td>SPAIN</td>\n      <td>2008-07-10</td>\n      <td>2017-06-23 10:18:20</td>\n      <td>...</td>\n      <td>G</td>\n      <td>491</td>\n      <td>(그램)</td>\n      <td>G</td>\n      <td>1048609535</td>\n      <td>NaN</td>\n      <td>NaN</td>\n      <td>S</td>\n      <td>NaN</td>\n      <td>NaN</td>\n    </tr>\n    <tr>\n      <th>89</th>\n      <td>8801007092867</td>\n      <td>8801007000015</td>\n      <td>백설유 라이트라 824ml</td>\n      <td>백설유 라이트라</td>\n      <td>씨제이제일제당(주)</td>\n      <td>CJ CHEILJEDANG CO.,LTD.</td>\n      <td>NaN</td>\n      <td>KOREA, REPUBLIC OF</td>\n      <td>2008-07-10</td>\n      <td>2017-06-23 10:18:20</td>\n      <td>...</td>\n      <td>G</td>\n      <td>878</td>\n      <td>(그램)</td>\n      <td>G</td>\n      <td>1048609535</td>\n      <td>NaN</td>\n      <td>NaN</td>\n      <td>S</td>\n      <td>NaN</td>\n      <td>NaN</td>\n    </tr>\n    <tr>\n      <th>...</th>\n      <td>...</td>\n      <td>...</td>\n      <td>...</td>\n      <td>...</td>\n      <td>...</td>\n      <td>...</td>\n      <td>...</td>\n      <td>...</td>\n      <td>...</td>\n      <td>...</td>\n      <td>...</td>\n      <td>...</td>\n      <td>...</td>\n      <td>...</td>\n      <td>...</td>\n      <td>...</td>\n      <td>...</td>\n      <td>...</td>\n      <td>...</td>\n      <td>...</td>\n      <td>...</td>\n    </tr>\n    <tr>\n      <th>1429</th>\n      <td>8801094265205</td>\n      <td>8800999992827</td>\n      <td>한국코카콜라(유)  미닛메이드 오렌지 350ml</td>\n      <td>코카콜라 유 미닛메이드 오렌지</td>\n      <td>(주)대광인터내셔날</td>\n      <td>Dae Kwang international company</td>\n      <td>NaN</td>\n      <td>KOREA, REPUBLIC OF</td>\n      <td>NaT</td>\n      <td>2017-06-21 15:51:01</td>\n      <td>...</td>\n      <td>G</td>\n      <td>390</td>\n      <td>(그램)</td>\n      <td>G</td>\n      <td>2308106040</td>\n      <td>NaN</td>\n      <td>NaN</td>\n      <td>S</td>\n      <td>NaN</td>\n      <td>코카콜라음료(주)</td>\n    </tr>\n    <tr>\n      <th>1433</th>\n      <td>8801114105313</td>\n      <td>8801114000014</td>\n      <td>풀무원 바로먹는도토리묵채냉국 863G x 1EA</td>\n      <td>생가득 바로먹는 도토리묵채 냉국</td>\n      <td>풀무원식품(주)</td>\n      <td>PULMUONE FOODS CO.,LTD.</td>\n      <td>생가득</td>\n      <td>KOREA, REPUBLIC OF</td>\n      <td>2006-06-22</td>\n      <td>2017-07-06 11:31:43</td>\n      <td>...</td>\n      <td>G</td>\n      <td>1160</td>\n      <td>(그램)</td>\n      <td>G</td>\n      <td>3038151649</td>\n      <td>NaN</td>\n      <td>NaN</td>\n      <td>S</td>\n      <td>NaN</td>\n      <td>명광식품(주)</td>\n    </tr>\n    <tr>\n      <th>1434</th>\n      <td>8809331506418</td>\n      <td>8809080400012</td>\n      <td>(주)아워홈 백합조개순두부찌개 350G</td>\n      <td>아워홈 백합조개순두부찌개</td>\n      <td>(주)아워홈</td>\n      <td>OURHOME LTD.</td>\n      <td>NaN</td>\n      <td>KOREA, REPUBLIC OF</td>\n      <td>2000-01-01</td>\n      <td>2017-10-23 10:28:21</td>\n      <td>...</td>\n      <td>G</td>\n      <td>370</td>\n      <td>(그램)</td>\n      <td>G</td>\n      <td>1078176324</td>\n      <td>http://mall.ourhome.co.kr/mall/product/detail....</td>\n      <td>NaN</td>\n      <td>S</td>\n      <td>NaN</td>\n      <td>(주)아워홈</td>\n    </tr>\n    <tr>\n      <th>1435</th>\n      <td>8934563232146</td>\n      <td>8809485670010</td>\n      <td>ACECOOK  리얼포쌀국수컵 70G</td>\n      <td>ACECOOK 리얼포쌀국수컵</td>\n      <td>(주)하늘처럼</td>\n      <td>Likesky Co.,Ltd.</td>\n      <td>NaN</td>\n      <td>VIET NAM</td>\n      <td>NaT</td>\n      <td>2017-10-12 11:08:39</td>\n      <td>...</td>\n      <td>G</td>\n      <td>100</td>\n      <td>(그램)</td>\n      <td>G</td>\n      <td>6468700016</td>\n      <td>http://</td>\n      <td>NaN</td>\n      <td>S</td>\n      <td>NaN</td>\n      <td>ACECOOK</td>\n    </tr>\n    <tr>\n      <th>1436</th>\n      <td>8809257828489</td>\n      <td>8809080400012</td>\n      <td>(주)아워홈 정성가득 황태해장국 500G</td>\n      <td>아워홈 정성가득 황태해장국</td>\n      <td>(주)아워홈</td>\n      <td>OURHOME LTD.</td>\n      <td>국물취향</td>\n      <td>KOREA, REPUBLIC OF</td>\n      <td>2010-01-01</td>\n      <td>2017-10-23 10:27:35</td>\n      <td>...</td>\n      <td>G</td>\n      <td>510</td>\n      <td>(그램)</td>\n      <td>G</td>\n      <td>1078176324</td>\n      <td>http://mall.ourhome.co.kr/mall/product/detail....</td>\n      <td>NaN</td>\n      <td>S</td>\n      <td>NaN</td>\n      <td>(주)아워홈</td>\n    </tr>\n  </tbody>\n</table>\n<p>202 rows × 41 columns</p>\n</div>"
     },
     "metadata": {},
     "execution_count": 17
    }
   ],
   "source": [
    "# 중복 row 있음\r\n",
    "df[df.duplicated()]"
   ]
  },
  {
   "cell_type": "code",
   "execution_count": 18,
   "metadata": {},
   "outputs": [
    {
     "output_type": "execute_result",
     "data": {
      "text/plain": [
       "8809272441014    10\n",
       "8809272441113     8\n",
       "8809272441021     8\n",
       "8809272441120     8\n",
       "8809319540779     4\n",
       "                 ..\n",
       "8809111694595     1\n",
       "8809191574374     1\n",
       "8809191574367     1\n",
       "8809191574350     1\n",
       "8809331503288     1\n",
       "Name: GTIN, Length: 1237, dtype: int64"
      ]
     },
     "metadata": {},
     "execution_count": 18
    }
   ],
   "source": [
    "df['GTIN'].value_counts()"
   ]
  },
  {
   "cell_type": "code",
   "execution_count": 19,
   "metadata": {},
   "outputs": [
    {
     "output_type": "execute_result",
     "data": {
      "text/plain": [
       "8801007000015    315\n",
       "8809238110015     53\n",
       "8809121980015     51\n",
       "8809272440017     47\n",
       "8801077000014     41\n",
       "                ... \n",
       "8809261530019      1\n",
       "8809057810011      1\n",
       "8809205060015      1\n",
       "8809426660018      1\n",
       "8804342000016      1\n",
       "Name: GLN, Length: 214, dtype: int64"
      ]
     },
     "metadata": {},
     "execution_count": 19
    }
   ],
   "source": [
    "df['GLN'].value_counts()"
   ]
  },
  {
   "cell_type": "code",
   "execution_count": 20,
   "metadata": {},
   "outputs": [
    {
     "output_type": "execute_result",
     "data": {
      "text/plain": [
       "               GTIN            GLN                    DSCRGTINK  \\\n",
       "1     8801007641034  8801007000015                  백설 양조식초1.8L   \n",
       "2     8801007034676  8801007000015               CJ 햇반 리조또 275g   \n",
       "4     8801007523033  8801007000015                  경희궁의 만찬243G   \n",
       "7     8801007040585  8801007000015         CJ 백설 스폰지 케익믹스 250*2   \n",
       "8     8801007039442  8801007000015            CJ 백설 신)중력밀가루 1kg   \n",
       "...             ...            ...                          ...   \n",
       "1400  8801007128054  8801007000015       HOPE 아이시안 루테인 500mg*30   \n",
       "1407  8801007298276  8801007000015  CJ제일제당 HOPE 종합비타민 36G x 1EA   \n",
       "1408  8801007298290  8801007000015   CJ제일제당 HOPE 비타민C 56G x 1EA   \n",
       "1415  8801007070902  8801007000015      씨제이제일제당 즐거운동행 생칼국수 550G   \n",
       "1416  8801007070896  8801007000015      씨제이제일제당 즐거운동행 생칼국수 300G   \n",
       "\n",
       "                  NPNAME     CONAMEK                  CONAMEE DSCRBRANDK  \\\n",
       "1                백설 양조식초  씨제이제일제당(주)  CJ CHEILJEDANG CO.,LTD.        NaN   \n",
       "2              CJ 햇반 리조또  씨제이제일제당(주)  CJ CHEILJEDANG CO.,LTD.        NaN   \n",
       "4                경희궁의 만찬  씨제이제일제당(주)  CJ CHEILJEDANG CO.,LTD.        NaN   \n",
       "7         CJ 백설 스폰지 케익믹스  씨제이제일제당(주)  CJ CHEILJEDANG CO.,LTD.        NaN   \n",
       "8          CJ 백설 신중력 밀가루  씨제이제일제당(주)  CJ CHEILJEDANG CO.,LTD.        NaN   \n",
       "...                  ...         ...                      ...        ...   \n",
       "1400       HOPE 아이시안 루테인  씨제이제일제당(주)  CJ CHEILJEDANG CO.,LTD.        NaN   \n",
       "1407         HOPE 종합 비타민  씨제이제일제당(주)  CJ CHEILJEDANG CO.,LTD.       HOPE   \n",
       "1408           HOPE 비타민C  씨제이제일제당(주)  CJ CHEILJEDANG CO.,LTD.       HOPE   \n",
       "1415  씨제이제일제당 즐거운동행 생칼국수  씨제이제일제당(주)  CJ CHEILJEDANG CO.,LTD.      즐거운동행   \n",
       "1416  씨제이제일제당 즐거운동행 생칼국수  씨제이제일제당(주)  CJ CHEILJEDANG CO.,LTD.      즐거운동행   \n",
       "\n",
       "            COUNTRYDESCR DSTARTAVAILABLE         DSYSUPDATED  ...  \\\n",
       "1     KOREA, REPUBLIC OF      2004-03-12 2017-06-23 10:18:20  ...   \n",
       "2                    NaN      2005-08-23 2017-06-23 10:18:20  ...   \n",
       "4     KOREA, REPUBLIC OF      2009-03-30 2017-06-23 10:18:20  ...   \n",
       "7                    NaN      2005-10-10 2017-06-23 10:18:20  ...   \n",
       "8     KOREA, REPUBLIC OF      2005-10-10 2017-06-23 10:18:20  ...   \n",
       "...                  ...             ...                 ...  ...   \n",
       "1400  KOREA, REPUBLIC OF      2009-07-17 2017-06-13 14:33:11  ...   \n",
       "1407  KOREA, REPUBLIC OF             NaT 2017-06-13 14:33:11  ...   \n",
       "1408  KOREA, REPUBLIC OF      2017-04-21 2017-06-13 14:33:11  ...   \n",
       "1415  KOREA, REPUBLIC OF      2007-07-30 2017-09-08 09:33:47  ...   \n",
       "1416  KOREA, REPUBLIC OF      2007-07-30 2017-09-08 09:31:52  ...   \n",
       "\n",
       "     NETWEIGHTUOM GROSSWEIGHT GROSSWEIGHTUOMDESCR GROSSWEIGHTUOM      BUSNID  \\\n",
       "1               G        1950                (그램)              G  1048609535   \n",
       "2               G           0                 NaN            NaN  1048609535   \n",
       "4               G           0                (그램)              G  1048609535   \n",
       "7               G           0                 NaN            NaN  1048609535   \n",
       "8               G        1000                (그램)              G  1048609535   \n",
       "...           ...         ...                 ...            ...         ...   \n",
       "1400            G          53                (그램)              G  1048609535   \n",
       "1407            G          93                (그램)              G  1048609535   \n",
       "1408            G         145                (그램)              G  1048609535   \n",
       "1415            G         590                (그램)              G  1048609535   \n",
       "1416            G         330                (그램)              G  1048609535   \n",
       "\n",
       "      PRODUCTURL  DATASOURCE PRGUBUN PACKGTIN  MENUFACT  \n",
       "1            NaN         NaN       S      NaN       NaN  \n",
       "2            NaN         NaN       S      NaN       NaN  \n",
       "4            NaN         NaN       S      NaN       NaN  \n",
       "7            NaN         NaN       S      NaN       NaN  \n",
       "8            NaN         NaN       S      NaN   씨제이제일제당  \n",
       "...          ...         ...     ...      ...       ...  \n",
       "1400         NaN         NaN       S      NaN     (주)서흥  \n",
       "1407     http://         NaN       S      NaN   (주)노바렉스  \n",
       "1408     http://         NaN       S      NaN   (주)노바렉스  \n",
       "1415         NaN         NaN       S      NaN     (주)미정  \n",
       "1416         NaN         NaN       S      NaN     (주)미정  \n",
       "\n",
       "[315 rows x 41 columns]"
      ],
      "text/html": "<div>\n<style scoped>\n    .dataframe tbody tr th:only-of-type {\n        vertical-align: middle;\n    }\n\n    .dataframe tbody tr th {\n        vertical-align: top;\n    }\n\n    .dataframe thead th {\n        text-align: right;\n    }\n</style>\n<table border=\"1\" class=\"dataframe\">\n  <thead>\n    <tr style=\"text-align: right;\">\n      <th></th>\n      <th>GTIN</th>\n      <th>GLN</th>\n      <th>DSCRGTINK</th>\n      <th>NPNAME</th>\n      <th>CONAMEK</th>\n      <th>CONAMEE</th>\n      <th>DSCRBRANDK</th>\n      <th>COUNTRYDESCR</th>\n      <th>DSTARTAVAILABLE</th>\n      <th>DSYSUPDATED</th>\n      <th>...</th>\n      <th>NETWEIGHTUOM</th>\n      <th>GROSSWEIGHT</th>\n      <th>GROSSWEIGHTUOMDESCR</th>\n      <th>GROSSWEIGHTUOM</th>\n      <th>BUSNID</th>\n      <th>PRODUCTURL</th>\n      <th>DATASOURCE</th>\n      <th>PRGUBUN</th>\n      <th>PACKGTIN</th>\n      <th>MENUFACT</th>\n    </tr>\n  </thead>\n  <tbody>\n    <tr>\n      <th>1</th>\n      <td>8801007641034</td>\n      <td>8801007000015</td>\n      <td>백설 양조식초1.8L</td>\n      <td>백설 양조식초</td>\n      <td>씨제이제일제당(주)</td>\n      <td>CJ CHEILJEDANG CO.,LTD.</td>\n      <td>NaN</td>\n      <td>KOREA, REPUBLIC OF</td>\n      <td>2004-03-12</td>\n      <td>2017-06-23 10:18:20</td>\n      <td>...</td>\n      <td>G</td>\n      <td>1950</td>\n      <td>(그램)</td>\n      <td>G</td>\n      <td>1048609535</td>\n      <td>NaN</td>\n      <td>NaN</td>\n      <td>S</td>\n      <td>NaN</td>\n      <td>NaN</td>\n    </tr>\n    <tr>\n      <th>2</th>\n      <td>8801007034676</td>\n      <td>8801007000015</td>\n      <td>CJ 햇반 리조또 275g</td>\n      <td>CJ 햇반 리조또</td>\n      <td>씨제이제일제당(주)</td>\n      <td>CJ CHEILJEDANG CO.,LTD.</td>\n      <td>NaN</td>\n      <td>NaN</td>\n      <td>2005-08-23</td>\n      <td>2017-06-23 10:18:20</td>\n      <td>...</td>\n      <td>G</td>\n      <td>0</td>\n      <td>NaN</td>\n      <td>NaN</td>\n      <td>1048609535</td>\n      <td>NaN</td>\n      <td>NaN</td>\n      <td>S</td>\n      <td>NaN</td>\n      <td>NaN</td>\n    </tr>\n    <tr>\n      <th>4</th>\n      <td>8801007523033</td>\n      <td>8801007000015</td>\n      <td>경희궁의 만찬243G</td>\n      <td>경희궁의 만찬</td>\n      <td>씨제이제일제당(주)</td>\n      <td>CJ CHEILJEDANG CO.,LTD.</td>\n      <td>NaN</td>\n      <td>KOREA, REPUBLIC OF</td>\n      <td>2009-03-30</td>\n      <td>2017-06-23 10:18:20</td>\n      <td>...</td>\n      <td>G</td>\n      <td>0</td>\n      <td>(그램)</td>\n      <td>G</td>\n      <td>1048609535</td>\n      <td>NaN</td>\n      <td>NaN</td>\n      <td>S</td>\n      <td>NaN</td>\n      <td>NaN</td>\n    </tr>\n    <tr>\n      <th>7</th>\n      <td>8801007040585</td>\n      <td>8801007000015</td>\n      <td>CJ 백설 스폰지 케익믹스 250*2</td>\n      <td>CJ 백설 스폰지 케익믹스</td>\n      <td>씨제이제일제당(주)</td>\n      <td>CJ CHEILJEDANG CO.,LTD.</td>\n      <td>NaN</td>\n      <td>NaN</td>\n      <td>2005-10-10</td>\n      <td>2017-06-23 10:18:20</td>\n      <td>...</td>\n      <td>G</td>\n      <td>0</td>\n      <td>NaN</td>\n      <td>NaN</td>\n      <td>1048609535</td>\n      <td>NaN</td>\n      <td>NaN</td>\n      <td>S</td>\n      <td>NaN</td>\n      <td>NaN</td>\n    </tr>\n    <tr>\n      <th>8</th>\n      <td>8801007039442</td>\n      <td>8801007000015</td>\n      <td>CJ 백설 신)중력밀가루 1kg</td>\n      <td>CJ 백설 신중력 밀가루</td>\n      <td>씨제이제일제당(주)</td>\n      <td>CJ CHEILJEDANG CO.,LTD.</td>\n      <td>NaN</td>\n      <td>KOREA, REPUBLIC OF</td>\n      <td>2005-10-10</td>\n      <td>2017-06-23 10:18:20</td>\n      <td>...</td>\n      <td>G</td>\n      <td>1000</td>\n      <td>(그램)</td>\n      <td>G</td>\n      <td>1048609535</td>\n      <td>NaN</td>\n      <td>NaN</td>\n      <td>S</td>\n      <td>NaN</td>\n      <td>씨제이제일제당</td>\n    </tr>\n    <tr>\n      <th>...</th>\n      <td>...</td>\n      <td>...</td>\n      <td>...</td>\n      <td>...</td>\n      <td>...</td>\n      <td>...</td>\n      <td>...</td>\n      <td>...</td>\n      <td>...</td>\n      <td>...</td>\n      <td>...</td>\n      <td>...</td>\n      <td>...</td>\n      <td>...</td>\n      <td>...</td>\n      <td>...</td>\n      <td>...</td>\n      <td>...</td>\n      <td>...</td>\n      <td>...</td>\n      <td>...</td>\n    </tr>\n    <tr>\n      <th>1400</th>\n      <td>8801007128054</td>\n      <td>8801007000015</td>\n      <td>HOPE 아이시안 루테인 500mg*30</td>\n      <td>HOPE 아이시안 루테인</td>\n      <td>씨제이제일제당(주)</td>\n      <td>CJ CHEILJEDANG CO.,LTD.</td>\n      <td>NaN</td>\n      <td>KOREA, REPUBLIC OF</td>\n      <td>2009-07-17</td>\n      <td>2017-06-13 14:33:11</td>\n      <td>...</td>\n      <td>G</td>\n      <td>53</td>\n      <td>(그램)</td>\n      <td>G</td>\n      <td>1048609535</td>\n      <td>NaN</td>\n      <td>NaN</td>\n      <td>S</td>\n      <td>NaN</td>\n      <td>(주)서흥</td>\n    </tr>\n    <tr>\n      <th>1407</th>\n      <td>8801007298276</td>\n      <td>8801007000015</td>\n      <td>CJ제일제당 HOPE 종합비타민 36G x 1EA</td>\n      <td>HOPE 종합 비타민</td>\n      <td>씨제이제일제당(주)</td>\n      <td>CJ CHEILJEDANG CO.,LTD.</td>\n      <td>HOPE</td>\n      <td>KOREA, REPUBLIC OF</td>\n      <td>NaT</td>\n      <td>2017-06-13 14:33:11</td>\n      <td>...</td>\n      <td>G</td>\n      <td>93</td>\n      <td>(그램)</td>\n      <td>G</td>\n      <td>1048609535</td>\n      <td>http://</td>\n      <td>NaN</td>\n      <td>S</td>\n      <td>NaN</td>\n      <td>(주)노바렉스</td>\n    </tr>\n    <tr>\n      <th>1408</th>\n      <td>8801007298290</td>\n      <td>8801007000015</td>\n      <td>CJ제일제당 HOPE 비타민C 56G x 1EA</td>\n      <td>HOPE 비타민C</td>\n      <td>씨제이제일제당(주)</td>\n      <td>CJ CHEILJEDANG CO.,LTD.</td>\n      <td>HOPE</td>\n      <td>KOREA, REPUBLIC OF</td>\n      <td>2017-04-21</td>\n      <td>2017-06-13 14:33:11</td>\n      <td>...</td>\n      <td>G</td>\n      <td>145</td>\n      <td>(그램)</td>\n      <td>G</td>\n      <td>1048609535</td>\n      <td>http://</td>\n      <td>NaN</td>\n      <td>S</td>\n      <td>NaN</td>\n      <td>(주)노바렉스</td>\n    </tr>\n    <tr>\n      <th>1415</th>\n      <td>8801007070902</td>\n      <td>8801007000015</td>\n      <td>씨제이제일제당 즐거운동행 생칼국수 550G</td>\n      <td>씨제이제일제당 즐거운동행 생칼국수</td>\n      <td>씨제이제일제당(주)</td>\n      <td>CJ CHEILJEDANG CO.,LTD.</td>\n      <td>즐거운동행</td>\n      <td>KOREA, REPUBLIC OF</td>\n      <td>2007-07-30</td>\n      <td>2017-09-08 09:33:47</td>\n      <td>...</td>\n      <td>G</td>\n      <td>590</td>\n      <td>(그램)</td>\n      <td>G</td>\n      <td>1048609535</td>\n      <td>NaN</td>\n      <td>NaN</td>\n      <td>S</td>\n      <td>NaN</td>\n      <td>(주)미정</td>\n    </tr>\n    <tr>\n      <th>1416</th>\n      <td>8801007070896</td>\n      <td>8801007000015</td>\n      <td>씨제이제일제당 즐거운동행 생칼국수 300G</td>\n      <td>씨제이제일제당 즐거운동행 생칼국수</td>\n      <td>씨제이제일제당(주)</td>\n      <td>CJ CHEILJEDANG CO.,LTD.</td>\n      <td>즐거운동행</td>\n      <td>KOREA, REPUBLIC OF</td>\n      <td>2007-07-30</td>\n      <td>2017-09-08 09:31:52</td>\n      <td>...</td>\n      <td>G</td>\n      <td>330</td>\n      <td>(그램)</td>\n      <td>G</td>\n      <td>1048609535</td>\n      <td>NaN</td>\n      <td>NaN</td>\n      <td>S</td>\n      <td>NaN</td>\n      <td>(주)미정</td>\n    </tr>\n  </tbody>\n</table>\n<p>315 rows × 41 columns</p>\n</div>"
     },
     "metadata": {},
     "execution_count": 20
    }
   ],
   "source": [
    "df[df['GLN'] == 8801007000015]"
   ]
  }
 ]
}