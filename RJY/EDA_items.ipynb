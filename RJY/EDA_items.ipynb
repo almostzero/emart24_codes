{
 "cells": [
  {
   "cell_type": "code",
   "execution_count": 1,
   "source": [
    "import re\n",
    "import sys\n",
    "from pathlib import Path\n",
    "from collections import Counter\n",
    "from datetime import datetime, time\n",
    "\n",
    "import numpy as np\n",
    "import modin.pandas as pd\n",
    "import plotly.express as px\n",
    "import plotly.graph_objects as go\n",
    "import ray\n",
    "\n",
    "ray.init()"
   ],
   "outputs": [
    {
     "output_type": "stream",
     "name": "stderr",
     "text": [
      "2021-09-27 22:44:46,104\tINFO services.py:1263 -- View the Ray dashboard at \u001b[1m\u001b[32mhttp://127.0.0.1:8265\u001b[39m\u001b[22m\n"
     ]
    },
    {
     "output_type": "execute_result",
     "data": {
      "text/plain": [
       "{'node_ip_address': '143.248.80.23',\n",
       " 'raylet_ip_address': '143.248.80.23',\n",
       " 'redis_address': '143.248.80.23:6379',\n",
       " 'object_store_address': '/tmp/ray/session_2021-09-27_22-44-44_517432_1850814/sockets/plasma_store',\n",
       " 'raylet_socket_name': '/tmp/ray/session_2021-09-27_22-44-44_517432_1850814/sockets/raylet',\n",
       " 'webui_url': '127.0.0.1:8265',\n",
       " 'session_dir': '/tmp/ray/session_2021-09-27_22-44-44_517432_1850814',\n",
       " 'metrics_export_port': 64281,\n",
       " 'node_id': 'a8a8212c6e8e14883dab40a352d5d4533d5b51d9cfbf1d24bc7baa3a'}"
      ]
     },
     "metadata": {},
     "execution_count": 1
    }
   ],
   "metadata": {}
  },
  {
   "cell_type": "code",
   "execution_count": 2,
   "source": [
    "ROOT = Path('/home/jun0/Projects/emart24')\n",
    "sys.path.append(str(ROOT))\n",
    "print(sys.path)"
   ],
   "outputs": [
    {
     "output_type": "stream",
     "name": "stdout",
     "text": [
      "['/home/jun0/.pyenv/versions/miniconda3-latest/envs/cuda111/lib/python3.8/site-packages/ray/thirdparty_files', '/home/jun0/Projects/emart24/emart24_codes/RJY', '/home/jun0/.pyenv/versions/miniconda3-latest/envs/cuda111/lib/python3.8/site-packages/ray/pickle5_files', '/home/jun0/Projects/emart24/emart24_codes/RJY', '/home/jun0/.vscode-server/extensions/ms-toolsai.jupyter-2021.8.2041215044/pythonFiles', '/home/jun0/.vscode-server/extensions/ms-toolsai.jupyter-2021.8.2041215044/pythonFiles/lib/python', '/home/jun0/.pyenv/versions/miniconda3-latest/envs/cuda111/lib/python38.zip', '/home/jun0/.pyenv/versions/miniconda3-latest/envs/cuda111/lib/python3.8', '/home/jun0/.pyenv/versions/miniconda3-latest/envs/cuda111/lib/python3.8/lib-dynload', '', '/home/jun0/.local/lib/python3.8/site-packages', '/home/jun0/.pyenv/versions/miniconda3-latest/envs/cuda111/lib/python3.8/site-packages', '/home/jun0/.local/lib/python3.8/site-packages/IPython/extensions', '/home/jun0/.ipython', '/home/jun0/Projects/emart24']\n"
     ]
    }
   ],
   "metadata": {}
  },
  {
   "cell_type": "markdown",
   "source": [
    "# 분류 체계 확장"
   ],
   "metadata": {}
  },
  {
   "cell_type": "code",
   "execution_count": 3,
   "source": [
    "# 카테고리 데이터\n",
    "category = pd.read_excel(ROOT / 'data/category.xlsx')\n",
    "category.columns = ['KAN_CODE', '전체분류', '현재분류명', '상품예시']\n",
    "\n",
    "# 상품 마스터 데이터\n",
    "item = pd.read_csv(ROOT / 'data/prep/02.설명이추가된 상품마스터_20210325.csv', sep='|', dtype=str)\n",
    "item['점포발주입수수량'] = item['점포발주입수수량'].fillna(0)\n",
    "item['공급가'] = item['공급가'].fillna(0).apply(lambda x: round(float(x)))\n",
    "item['매가'] = item['매가'].fillna(0)\n",
    "item['점포유통기한일수'] = item['점포유통기한일수'].fillna(0)\n",
    "item = item.astype({'점포발주입수수량': int, '공급가': int, '매가': int, '점포유통기한일수': int})\n",
    "\n",
    "# shapes\n",
    "category.shape, item.shape"
   ],
   "outputs": [
    {
     "output_type": "execute_result",
     "data": {
      "text/plain": [
       "((3062, 4), (49299, 46))"
      ]
     },
     "metadata": {},
     "execution_count": 3
    }
   ],
   "metadata": {}
  },
  {
   "cell_type": "code",
   "execution_count": 5,
   "source": [
    "category.head(2)"
   ],
   "outputs": [
    {
     "output_type": "execute_result",
     "data": {
      "text/html": [
       "<div>\n",
       "<style scoped>\n",
       "    .dataframe tbody tr th:only-of-type {\n",
       "        vertical-align: middle;\n",
       "    }\n",
       "\n",
       "    .dataframe tbody tr th {\n",
       "        vertical-align: top;\n",
       "    }\n",
       "\n",
       "    .dataframe thead th {\n",
       "        text-align: right;\n",
       "    }\n",
       "</style>\n",
       "<table border=\"1\" class=\"dataframe\">\n",
       "  <thead>\n",
       "    <tr style=\"text-align: right;\">\n",
       "      <th></th>\n",
       "      <th>KAN_CODE</th>\n",
       "      <th>전체분류</th>\n",
       "      <th>현재분류명</th>\n",
       "      <th>상품예시</th>\n",
       "    </tr>\n",
       "  </thead>\n",
       "  <tbody>\n",
       "    <tr>\n",
       "      <th>0</th>\n",
       "      <td>1010101</td>\n",
       "      <td>가공식품&gt;조미료&gt;종합조미료&gt;천연/발효조미료</td>\n",
       "      <td>천연/발효조미료</td>\n",
       "      <td>다시다, 미원, 멸치가루, 버섯가루</td>\n",
       "    </tr>\n",
       "    <tr>\n",
       "      <th>1</th>\n",
       "      <td>1010102</td>\n",
       "      <td>가공식품&gt;조미료&gt;종합조미료&gt;식초</td>\n",
       "      <td>식초</td>\n",
       "      <td>과일초, 발효초, 감식초, 사과식초, 현미식초, 홍초</td>\n",
       "    </tr>\n",
       "  </tbody>\n",
       "</table>\n",
       "</div>"
      ],
      "text/plain": [
       "   KAN_CODE                     전체분류     현재분류명                           상품예시\n",
       "0   1010101  가공식품>조미료>종합조미료>천연/발효조미료  천연/발효조미료            다시다, 미원, 멸치가루, 버섯가루\n",
       "1   1010102        가공식품>조미료>종합조미료>식초        식초  과일초, 발효초, 감식초, 사과식초, 현미식초, 홍초"
      ]
     },
     "metadata": {},
     "execution_count": 5
    }
   ],
   "metadata": {}
  },
  {
   "cell_type": "code",
   "execution_count": 68,
   "source": [
    "contained = item.fillna('').apply(lambda row: (row['GDS_SLPNT_DSCRT'] in row['GDS_DSCRT']) & bool(row['GDS_DSCRT']) & bool(row['GDS_SLPNT_DSCRT']), axis=1)\n",
    "contained_reverse = item.fillna('').apply(lambda row: (row['GDS_DSCRT'] in row['GDS_SLPNT_DSCRT']) & bool(row['GDS_DSCRT']) & bool(row['GDS_SLPNT_DSCRT']), axis=1)\n",
    "only_dscrt = item['GDS_DSCRT'].isna() & ~item['GDS_SLPNT_DSCRT'].isna()\n",
    "only_slpnt = ~item['GDS_DSCRT'].isna() & item['GDS_SLPNT_DSCRT'].isna()"
   ],
   "outputs": [],
   "metadata": {}
  },
  {
   "cell_type": "code",
   "execution_count": 88,
   "source": [
    "item[item.fillna('').apply(lambda row: (row['GDS_SLPNT_DSCRT'] != row['GDS_DSCRT']) & (row['GDS_DSCRT'] in row['GDS_SLPNT_DSCRT']) & bool(row['GDS_DSCRT']) & bool(row['GDS_SLPNT_DSCRT']), axis=1)][['상품명', 'GDS_DSCRT', 'GDS_SLPNT_DSCRT']]"
   ],
   "outputs": [
    {
     "output_type": "execute_result",
     "data": {
      "text/html": [
       "<div>\n",
       "<style scoped>\n",
       "    .dataframe tbody tr th:only-of-type {\n",
       "        vertical-align: middle;\n",
       "    }\n",
       "\n",
       "    .dataframe tbody tr th {\n",
       "        vertical-align: top;\n",
       "    }\n",
       "\n",
       "    .dataframe thead th {\n",
       "        text-align: right;\n",
       "    }\n",
       "</style>\n",
       "<table border=\"1\" class=\"dataframe\">\n",
       "  <thead>\n",
       "    <tr style=\"text-align: right;\">\n",
       "      <th></th>\n",
       "      <th>상품명</th>\n",
       "      <th>GDS_DSCRT</th>\n",
       "      <th>GDS_SLPNT_DSCRT</th>\n",
       "    </tr>\n",
       "  </thead>\n",
       "  <tbody>\n",
       "    <tr>\n",
       "      <th>55</th>\n",
       "      <td>에너자이저)맥스AAA2입</td>\n",
       "      <td>에너자이저 국내 판매 1위 건전지</td>\n",
       "      <td>[사이드진열 Best 추천 상품] 에너자이저 국내 판매 1위 건전지</td>\n",
       "    </tr>\n",
       "    <tr>\n",
       "      <th>123</th>\n",
       "      <td>에너자이저)맥스AA2입</td>\n",
       "      <td>에너자이저 국내 판매 1위 건전지</td>\n",
       "      <td>[사이드진열 Best 추천 상품] 에너자이저 국내 판매 1위 건전지</td>\n",
       "    </tr>\n",
       "    <tr>\n",
       "      <th>704</th>\n",
       "      <td>천지개벽100ml</td>\n",
       "      <td>- 트렌드 : 숙취해소음료 카테고리 내 구색 다양화를 통한 고객 니즈 확보가 필요함...</td>\n",
       "      <td>- 트렌드 : 숙취해소음료 카테고리 내 구색 다양화를 통한 고객 니즈 확보가 필요함...</td>\n",
       "    </tr>\n",
       "    <tr>\n",
       "      <th>753</th>\n",
       "      <td>하겐다즈)화이트블레스케익</td>\n",
       "      <td>- 향긋한 그린티 아이스크림과 부드러운 바닐라 아이스크림, 달콤한 위핑크림과 초코렛...</td>\n",
       "      <td>- 향긋한 그린티 아이스크림과 부드러운 바닐라 아이스크림, 달콤한 위핑크림과 초코렛...</td>\n",
       "    </tr>\n",
       "    <tr>\n",
       "      <th>9174</th>\n",
       "      <td>마즈)스니커즈땅콩헤이즐넛</td>\n",
       "      <td>고소함으로 가득찬 헤이즐넛, 두개로 나누어 먹을 수 있는 초코바</td>\n",
       "      <td>1. 고소함으로 가득찬 헤이즐넛, 두개로 나누어 먹을 수 있는 초코바  2. 학원가...</td>\n",
       "    </tr>\n",
       "    <tr>\n",
       "      <th>...</th>\n",
       "      <td>...</td>\n",
       "      <td>...</td>\n",
       "      <td>...</td>\n",
       "    </tr>\n",
       "    <tr>\n",
       "      <th>48592</th>\n",
       "      <td>스티커)컬러풀하트스티커</td>\n",
       "      <td>1. 스티커 제품은 회전율과 매출이 높은 상품입니다. 2. 다양한 모양의 하트 스티...</td>\n",
       "      <td>1. 스티커 제품은 회전율과 매출이 높은 상품입니다. 2. 다양한 모양의 하트 스티...</td>\n",
       "    </tr>\n",
       "    <tr>\n",
       "      <th>48593</th>\n",
       "      <td>스티커)마스크데코스티커(과일)</td>\n",
       "      <td>1. 스티커 제품은 회전율과 매출이 높은 상품입니다. 2. 밋밋한 마스크를 개성있게...</td>\n",
       "      <td>1. 스티커 제품은 회전율과 매출이 높은 상품입니다. 2. 밋밋한 마스크를 개성있게...</td>\n",
       "    </tr>\n",
       "    <tr>\n",
       "      <th>48594</th>\n",
       "      <td>바른생각)콘돔익스트림에어핏기획(1P)</td>\n",
       "      <td>1.바른생각)인기콘돔4종클립스트립(기획상품) 구성품 / 상품 발주 불가</td>\n",
       "      <td>1.바른생각)인기콘돔4종클립스트립(기획상품) 구성품 / 상품 발주 불가  4. 진열...</td>\n",
       "    </tr>\n",
       "    <tr>\n",
       "      <th>49086</th>\n",
       "      <td>신스무디킹)글래드랩(포장용)</td>\n",
       "      <td>1. 스무디킹 운영용 소모품 재료</td>\n",
       "      <td>1. 스무디킹 운영용 소모품 재료</td>\n",
       "    </tr>\n",
       "    <tr>\n",
       "      <th>49181</th>\n",
       "      <td>마즈)이클립스회전형미니진열대</td>\n",
       "      <td>이클립스 전용 회전형 미니 진열대 (3천대 한정)</td>\n",
       "      <td>이클립스 전용 회전형 미니 진열대 (3천대 한정) - 진열대 가운데 적재공간에 남은...</td>\n",
       "    </tr>\n",
       "  </tbody>\n",
       "</table>\n",
       "<p>268 rows × 3 columns</p>\n",
       "</div>"
      ],
      "text/plain": [
       "                        상품명  \\\n",
       "55            에너자이저)맥스AAA2입   \n",
       "123            에너자이저)맥스AA2입   \n",
       "704               천지개벽100ml   \n",
       "753           하겐다즈)화이트블레스케익   \n",
       "9174          마즈)스니커즈땅콩헤이즐넛   \n",
       "...                     ...   \n",
       "48592          스티커)컬러풀하트스티커   \n",
       "48593      스티커)마스크데코스티커(과일)   \n",
       "48594  바른생각)콘돔익스트림에어핏기획(1P)   \n",
       "49086       신스무디킹)글래드랩(포장용)   \n",
       "49181       마즈)이클립스회전형미니진열대   \n",
       "\n",
       "                                               GDS_DSCRT  \\\n",
       "55                                    에너자이저 국내 판매 1위 건전지   \n",
       "123                                   에너자이저 국내 판매 1위 건전지   \n",
       "704    - 트렌드 : 숙취해소음료 카테고리 내 구색 다양화를 통한 고객 니즈 확보가 필요함...   \n",
       "753    - 향긋한 그린티 아이스크림과 부드러운 바닐라 아이스크림, 달콤한 위핑크림과 초코렛...   \n",
       "9174                고소함으로 가득찬 헤이즐넛, 두개로 나누어 먹을 수 있는 초코바    \n",
       "...                                                  ...   \n",
       "48592  1. 스티커 제품은 회전율과 매출이 높은 상품입니다. 2. 다양한 모양의 하트 스티...   \n",
       "48593  1. 스티커 제품은 회전율과 매출이 높은 상품입니다. 2. 밋밋한 마스크를 개성있게...   \n",
       "48594           1.바른생각)인기콘돔4종클립스트립(기획상품) 구성품 / 상품 발주 불가    \n",
       "49086                                 1. 스무디킹 운영용 소모품 재료   \n",
       "49181                        이클립스 전용 회전형 미니 진열대 (3천대 한정)   \n",
       "\n",
       "                                         GDS_SLPNT_DSCRT  \n",
       "55                 [사이드진열 Best 추천 상품] 에너자이저 국내 판매 1위 건전지  \n",
       "123                [사이드진열 Best 추천 상품] 에너자이저 국내 판매 1위 건전지  \n",
       "704    - 트렌드 : 숙취해소음료 카테고리 내 구색 다양화를 통한 고객 니즈 확보가 필요함...  \n",
       "753    - 향긋한 그린티 아이스크림과 부드러운 바닐라 아이스크림, 달콤한 위핑크림과 초코렛...  \n",
       "9174   1. 고소함으로 가득찬 헤이즐넛, 두개로 나누어 먹을 수 있는 초코바  2. 학원가...  \n",
       "...                                                  ...  \n",
       "48592  1. 스티커 제품은 회전율과 매출이 높은 상품입니다. 2. 다양한 모양의 하트 스티...  \n",
       "48593  1. 스티커 제품은 회전율과 매출이 높은 상품입니다. 2. 밋밋한 마스크를 개성있게...  \n",
       "48594  1.바른생각)인기콘돔4종클립스트립(기획상품) 구성품 / 상품 발주 불가  4. 진열...  \n",
       "49086                                1. 스무디킹 운영용 소모품 재료   \n",
       "49181  이클립스 전용 회전형 미니 진열대 (3천대 한정) - 진열대 가운데 적재공간에 남은...  \n",
       "\n",
       "[268 rows x 3 columns]"
      ]
     },
     "metadata": {},
     "execution_count": 88
    }
   ],
   "metadata": {}
  },
  {
   "cell_type": "code",
   "execution_count": 84,
   "source": [
    "item[item['GDS_DSCRT'].isna() & item['GDS_SLPNT_DSCRT'].isna()].shape"
   ],
   "outputs": [
    {
     "output_type": "execute_result",
     "data": {
      "text/plain": [
       "(19670, 48)"
      ]
     },
     "metadata": {},
     "execution_count": 84
    }
   ],
   "metadata": {}
  },
  {
   "cell_type": "code",
   "execution_count": 81,
   "source": [
    "item[item.fillna('').apply(lambda row: bool(row['GDS_DSCRT']) & bool(row['GDS_SLPNT_DSCRT']), axis=1)].shape"
   ],
   "outputs": [
    {
     "output_type": "execute_result",
     "data": {
      "text/plain": [
       "(13869, 48)"
      ]
     },
     "metadata": {},
     "execution_count": 81
    }
   ],
   "metadata": {}
  },
  {
   "cell_type": "code",
   "execution_count": 83,
   "source": [
    "3624 / 13869"
   ],
   "outputs": [
    {
     "output_type": "execute_result",
     "data": {
      "text/plain": [
       "0.2613021847285313"
      ]
     },
     "metadata": {},
     "execution_count": 83
    }
   ],
   "metadata": {}
  },
  {
   "cell_type": "code",
   "execution_count": 69,
   "source": [
    "item[contained][['상품명', 'GDS_DSCRT', 'GDS_SLPNT_DSCRT']].shape"
   ],
   "outputs": [
    {
     "output_type": "execute_result",
     "data": {
      "text/plain": [
       "(3578, 3)"
      ]
     },
     "metadata": {},
     "execution_count": 69
    }
   ],
   "metadata": {}
  },
  {
   "cell_type": "code",
   "execution_count": 70,
   "source": [
    "item[only_dscrt][['상품명', 'GDS_DSCRT', 'GDS_SLPNT_DSCRT']].shape"
   ],
   "outputs": [
    {
     "output_type": "execute_result",
     "data": {
      "text/plain": [
       "(8, 3)"
      ]
     },
     "metadata": {},
     "execution_count": 70
    }
   ],
   "metadata": {}
  },
  {
   "cell_type": "code",
   "execution_count": 71,
   "source": [
    "item[only_slpnt][['상품명', 'GDS_DSCRT', 'GDS_SLPNT_DSCRT']].shape"
   ],
   "outputs": [
    {
     "output_type": "execute_result",
     "data": {
      "text/plain": [
       "(15752, 3)"
      ]
     },
     "metadata": {},
     "execution_count": 71
    }
   ],
   "metadata": {}
  },
  {
   "cell_type": "code",
   "execution_count": 72,
   "source": [
    "item[contained_reverse][['상품명', 'GDS_DSCRT', 'GDS_SLPNT_DSCRT']].shape"
   ],
   "outputs": [
    {
     "output_type": "execute_result",
     "data": {
      "text/plain": [
       "(3624, 3)"
      ]
     },
     "metadata": {},
     "execution_count": 72
    }
   ],
   "metadata": {}
  },
  {
   "cell_type": "code",
   "execution_count": 73,
   "source": [
    "item[~contained][['상품명', 'GDS_DSCRT', 'GDS_SLPNT_DSCRT']].shape"
   ],
   "outputs": [
    {
     "output_type": "execute_result",
     "data": {
      "text/plain": [
       "(45721, 3)"
      ]
     },
     "metadata": {},
     "execution_count": 73
    }
   ],
   "metadata": {}
  },
  {
   "cell_type": "code",
   "execution_count": 9,
   "source": [
    "temp = pd.read_csv(ROOT / 'data/prep/02.설명이추가된 상품마스터_20210325.csv', sep='|', dtype=str)\n",
    "temp[temp['점포발주입수수량'].isna() | temp['공급가'].isna() | temp['매가'].isna() | temp['점포유통기한일수'].isna()][['점포발주입수수량', '공급가', '매가', '점포유통기한일수']]"
   ],
   "outputs": [
    {
     "output_type": "execute_result",
     "data": {
      "text/html": [
       "<div>\n",
       "<style scoped>\n",
       "    .dataframe tbody tr th:only-of-type {\n",
       "        vertical-align: middle;\n",
       "    }\n",
       "\n",
       "    .dataframe tbody tr th {\n",
       "        vertical-align: top;\n",
       "    }\n",
       "\n",
       "    .dataframe thead th {\n",
       "        text-align: right;\n",
       "    }\n",
       "</style>\n",
       "<table border=\"1\" class=\"dataframe\">\n",
       "  <thead>\n",
       "    <tr style=\"text-align: right;\">\n",
       "      <th></th>\n",
       "      <th>점포발주입수수량</th>\n",
       "      <th>공급가</th>\n",
       "      <th>매가</th>\n",
       "      <th>점포유통기한일수</th>\n",
       "    </tr>\n",
       "  </thead>\n",
       "  <tbody>\n",
       "    <tr>\n",
       "      <th>27089</th>\n",
       "      <td>NaN</td>\n",
       "      <td>333</td>\n",
       "      <td>450</td>\n",
       "      <td>NaN</td>\n",
       "    </tr>\n",
       "  </tbody>\n",
       "</table>\n",
       "</div>"
      ],
      "text/plain": [
       "      점포발주입수수량  공급가   매가 점포유통기한일수\n",
       "27089      NaN  333  450      NaN"
      ]
     },
     "metadata": {},
     "execution_count": 9
    }
   ],
   "metadata": {}
  },
  {
   "cell_type": "code",
   "execution_count": 41,
   "source": [
    "# 전체 카테고리\n",
    "all_category = []\n",
    "temp = pd.DataFrame(category['전체분류'].apply(lambda row: row.split('>')).tolist())\n",
    "for col in temp.columns:\n",
    "    all_category += temp[col].unique().tolist()\n",
    "unique_category = set(all_category)\n",
    "len(all_category), len(unique_category)"
   ],
   "outputs": [
    {
     "output_type": "execute_result",
     "data": {
      "text/plain": [
       "(3576, 3427)"
      ]
     },
     "metadata": {},
     "execution_count": 41
    }
   ],
   "metadata": {}
  },
  {
   "cell_type": "code",
   "execution_count": 4,
   "source": [
    "# 전체분류 마지막 항목과 현재분류명 일치하지 않는 케이스\n",
    "category[~(category['전체분류'].apply(lambda row: row.split('>')[-1]) == category['현재분류명'])]"
   ],
   "outputs": [
    {
     "output_type": "execute_result",
     "data": {
      "text/html": [
       "<div>\n",
       "<style scoped>\n",
       "    .dataframe tbody tr th:only-of-type {\n",
       "        vertical-align: middle;\n",
       "    }\n",
       "\n",
       "    .dataframe tbody tr th {\n",
       "        vertical-align: top;\n",
       "    }\n",
       "\n",
       "    .dataframe thead th {\n",
       "        text-align: right;\n",
       "    }\n",
       "</style>\n",
       "<table border=\"1\" class=\"dataframe\">\n",
       "  <thead>\n",
       "    <tr style=\"text-align: right;\">\n",
       "      <th></th>\n",
       "      <th>KAN_CODE</th>\n",
       "      <th>전체분류</th>\n",
       "      <th>현재분류명</th>\n",
       "      <th>상품예시</th>\n",
       "    </tr>\n",
       "  </thead>\n",
       "  <tbody>\n",
       "  </tbody>\n",
       "</table>\n",
       "</div>"
      ],
      "text/plain": [
       "Empty DataFrame\n",
       "Columns: [KAN_CODE, 전체분류, 현재분류명, 상품예시]\n",
       "Index: []"
      ]
     },
     "metadata": {},
     "execution_count": 4
    }
   ],
   "metadata": {}
  },
  {
   "cell_type": "code",
   "execution_count": 35,
   "source": [
    "# 전처리해야할 대상들\n",
    "category[category['전체분류'].duplicated(keep=False)]"
   ],
   "outputs": [
    {
     "output_type": "execute_result",
     "data": {
      "text/html": [
       "<div>\n",
       "<style scoped>\n",
       "    .dataframe tbody tr th:only-of-type {\n",
       "        vertical-align: middle;\n",
       "    }\n",
       "\n",
       "    .dataframe tbody tr th {\n",
       "        vertical-align: top;\n",
       "    }\n",
       "\n",
       "    .dataframe thead th {\n",
       "        text-align: right;\n",
       "    }\n",
       "</style>\n",
       "<table border=\"1\" class=\"dataframe\">\n",
       "  <thead>\n",
       "    <tr style=\"text-align: right;\">\n",
       "      <th></th>\n",
       "      <th>KAN_CODE</th>\n",
       "      <th>전체분류</th>\n",
       "      <th>현재분류명</th>\n",
       "      <th>상품예시</th>\n",
       "    </tr>\n",
       "  </thead>\n",
       "  <tbody>\n",
       "  </tbody>\n",
       "</table>\n",
       "</div>"
      ],
      "text/plain": [
       "Empty DataFrame\n",
       "Columns: [KAN_CODE, 전체분류, 현재분류명, 상품예시]\n",
       "Index: []"
      ]
     },
     "metadata": {},
     "execution_count": 35
    }
   ],
   "metadata": {}
  },
  {
   "cell_type": "code",
   "execution_count": 42,
   "source": [
    "# category의 아이템\n",
    "category_item = [x for lst in category['상품예시'].apply(lambda row: [x.strip() for x in row.split(',')]).tolist() for x in lst]\n",
    "# '' 제거\n",
    "category_item = list(filter(lambda x: x != '', category_item))\n",
    "category_item_unique = set(category_item)\n",
    "category_item_unique = list(category_item_unique)[1:]\n",
    "len(category_item), len(category_item_unique)"
   ],
   "outputs": [
    {
     "output_type": "execute_result",
     "data": {
      "text/plain": [
       "(9353, 9140)"
      ]
     },
     "metadata": {},
     "execution_count": 42
    }
   ],
   "metadata": {}
  },
  {
   "cell_type": "code",
   "execution_count": 45,
   "source": [
    "# unique 한 상품명\n",
    "item_unique_bool = ~item['상품명'].duplicated()\n",
    "# 분류가 겹치는 아이템\n",
    "overlap = item_unique_bool & (item['대분류명'].isin(unique_category) | item['중분류명'].isin(unique_category) | item['소분류명'].isin(unique_category))\n",
    "# 단순 일치하는 상품명\n",
    "exact_match_bool = item_unique_bool & item['상품명'].isin(category_item_unique)\n",
    "# 상품명에 포함된 상품예시\n",
    "contain_bool = item_unique_bool & item['상품명'].apply(lambda x: bool([i for i in category_item_unique if i in x]))\n",
    "item['상품예시'] = item['상품명'].apply(lambda x: [i for i in category_item_unique if i in x])\n",
    "item['카테고리'] = ''\n",
    "\n",
    "item[overlap].shape, item[exact_match_bool].shape, item[contain_bool].shape, item[overlap | contain_bool].shape"
   ],
   "outputs": [
    {
     "output_type": "execute_result",
     "data": {
      "text/plain": [
       "((17830, 47), (283, 47), (23738, 47), (31591, 47))"
      ]
     },
     "metadata": {},
     "execution_count": 45
    }
   ],
   "metadata": {}
  },
  {
   "cell_type": "code",
   "execution_count": 66,
   "source": [
    "item[item['상품예시'].apply(lambda row: bool([x for x in row if len(x) > 1]))][['PLU_CD', '상품명', '상품예시', '카테고리']].sample(100)"
   ],
   "outputs": [
    {
     "output_type": "execute_result",
     "data": {
      "text/html": [
       "<div>\n",
       "<style scoped>\n",
       "    .dataframe tbody tr th:only-of-type {\n",
       "        vertical-align: middle;\n",
       "    }\n",
       "\n",
       "    .dataframe tbody tr th {\n",
       "        vertical-align: top;\n",
       "    }\n",
       "\n",
       "    .dataframe thead th {\n",
       "        text-align: right;\n",
       "    }\n",
       "</style>\n",
       "<table border=\"1\" class=\"dataframe\">\n",
       "  <thead>\n",
       "    <tr style=\"text-align: right;\">\n",
       "      <th></th>\n",
       "      <th>PLU_CD</th>\n",
       "      <th>상품명</th>\n",
       "      <th>상품예시</th>\n",
       "      <th>카테고리</th>\n",
       "    </tr>\n",
       "  </thead>\n",
       "  <tbody>\n",
       "    <tr>\n",
       "      <th>36017</th>\n",
       "      <td>8801062896943</td>\n",
       "      <td>롯데)스키피땅콩스트로젤</td>\n",
       "      <td>[땅콩]</td>\n",
       "      <td></td>\n",
       "    </tr>\n",
       "    <tr>\n",
       "      <th>10781</th>\n",
       "      <td>8806075265885</td>\n",
       "      <td>자주)물병에코(오렌지)</td>\n",
       "      <td>[물병, 오렌지]</td>\n",
       "      <td></td>\n",
       "    </tr>\n",
       "    <tr>\n",
       "      <th>16570</th>\n",
       "      <td>8809073333556</td>\n",
       "      <td>완구)호키동물피아노</td>\n",
       "      <td>[피아노]</td>\n",
       "      <td></td>\n",
       "    </tr>\n",
       "    <tr>\n",
       "      <th>40371</th>\n",
       "      <td>8801198180282</td>\n",
       "      <td>영실업)마이크로휠(싱글팩)</td>\n",
       "      <td>[마이크, 마, 실]</td>\n",
       "      <td></td>\n",
       "    </tr>\n",
       "    <tr>\n",
       "      <th>17101</th>\n",
       "      <td>8803284608199</td>\n",
       "      <td>피코크)리치핫초코10입</td>\n",
       "      <td>[리치]</td>\n",
       "      <td></td>\n",
       "    </tr>\n",
       "    <tr>\n",
       "      <th>...</th>\n",
       "      <td>...</td>\n",
       "      <td>...</td>\n",
       "      <td>...</td>\n",
       "      <td>...</td>\n",
       "    </tr>\n",
       "    <tr>\n",
       "      <th>11565</th>\n",
       "      <td>8801047163053</td>\n",
       "      <td>명품)한우야채죽</td>\n",
       "      <td>[야채죽, 한우]</td>\n",
       "      <td></td>\n",
       "    </tr>\n",
       "    <tr>\n",
       "      <th>29534</th>\n",
       "      <td>8801047154761</td>\n",
       "      <td>동원)돌후룻샐러드파우치115g</td>\n",
       "      <td>[샐러드]</td>\n",
       "      <td></td>\n",
       "    </tr>\n",
       "    <tr>\n",
       "      <th>42186</th>\n",
       "      <td>5702016618259</td>\n",
       "      <td>레고)21158 판다 가족의 놀이터</td>\n",
       "      <td>[레고]</td>\n",
       "      <td></td>\n",
       "    </tr>\n",
       "    <tr>\n",
       "      <th>32226</th>\n",
       "      <td>1500000012847</td>\n",
       "      <td>바르다)참치&amp;크림치즈호두김밥</td>\n",
       "      <td>[호두, 크림치즈]</td>\n",
       "      <td></td>\n",
       "    </tr>\n",
       "    <tr>\n",
       "      <th>12709</th>\n",
       "      <td>8809132071139</td>\n",
       "      <td>홀더)모니터메모</td>\n",
       "      <td>[모니터]</td>\n",
       "      <td></td>\n",
       "    </tr>\n",
       "  </tbody>\n",
       "</table>\n",
       "<p>100 rows × 4 columns</p>\n",
       "</div>"
      ],
      "text/plain": [
       "              PLU_CD                  상품명         상품예시 카테고리\n",
       "36017  8801062896943         롯데)스키피땅콩스트로젤         [땅콩]     \n",
       "10781  8806075265885         자주)물병에코(오렌지)    [물병, 오렌지]     \n",
       "16570  8809073333556           완구)호키동물피아노        [피아노]     \n",
       "40371  8801198180282       영실업)마이크로휠(싱글팩)  [마이크, 마, 실]     \n",
       "17101  8803284608199         피코크)리치핫초코10입         [리치]     \n",
       "...              ...                  ...          ...  ...\n",
       "11565  8801047163053             명품)한우야채죽    [야채죽, 한우]     \n",
       "29534  8801047154761     동원)돌후룻샐러드파우치115g        [샐러드]     \n",
       "42186  5702016618259  레고)21158 판다 가족의 놀이터         [레고]     \n",
       "32226  1500000012847      바르다)참치&크림치즈호두김밥   [호두, 크림치즈]     \n",
       "12709  8809132071139             홀더)모니터메모        [모니터]     \n",
       "\n",
       "[100 rows x 4 columns]"
      ]
     },
     "metadata": {},
     "execution_count": 66
    }
   ],
   "metadata": {}
  },
  {
   "cell_type": "code",
   "execution_count": 92,
   "source": [
    "temp_item_list = ['징', '오일', '클렌징오일', '참기름', '수세미', '시가', '주방가위', '가위']\n",
    "temp_bool = category['상품예시'].apply(lambda row: any([x.strip() in temp_item_list for x in row.split(',')]))\n",
    "category[temp_bool].head(10)"
   ],
   "outputs": [
    {
     "output_type": "execute_result",
     "data": {
      "text/html": [
       "<div>\n",
       "<style scoped>\n",
       "    .dataframe tbody tr th:only-of-type {\n",
       "        vertical-align: middle;\n",
       "    }\n",
       "\n",
       "    .dataframe tbody tr th {\n",
       "        vertical-align: top;\n",
       "    }\n",
       "\n",
       "    .dataframe thead th {\n",
       "        text-align: right;\n",
       "    }\n",
       "</style>\n",
       "<table border=\"1\" class=\"dataframe\">\n",
       "  <thead>\n",
       "    <tr style=\"text-align: right;\">\n",
       "      <th></th>\n",
       "      <th>KAN_CODE</th>\n",
       "      <th>전체분류</th>\n",
       "      <th>현재분류명</th>\n",
       "      <th>상품예시</th>\n",
       "    </tr>\n",
       "  </thead>\n",
       "  <tbody>\n",
       "    <tr>\n",
       "      <th>36</th>\n",
       "      <td>1010501</td>\n",
       "      <td>가공식품&gt;조미료&gt;유지류&gt;참기름</td>\n",
       "      <td>참기름</td>\n",
       "      <td>참기름, 생참기름, 맛참기름</td>\n",
       "    </tr>\n",
       "    <tr>\n",
       "      <th>755</th>\n",
       "      <td>3110106</td>\n",
       "      <td>일상용품&gt;주방용품&gt;조리기구&gt;주방가위</td>\n",
       "      <td>주방가위</td>\n",
       "      <td>주방가위, 식가위, 식사가위</td>\n",
       "    </tr>\n",
       "    <tr>\n",
       "      <th>793</th>\n",
       "      <td>3110405</td>\n",
       "      <td>일상용품&gt;주방용품&gt;주방소모품&gt;수세미</td>\n",
       "      <td>수세미</td>\n",
       "      <td>수세미, 철수세미, 천수세미</td>\n",
       "    </tr>\n",
       "    <tr>\n",
       "      <th>943</th>\n",
       "      <td>3180499</td>\n",
       "      <td>일상용품&gt;공구&gt;절삭공구&gt;기타절삭공구</td>\n",
       "      <td>기타절삭공구</td>\n",
       "      <td>가위, 트리머, 다이스, 대패, 루터, 샌더기, 톱, 조각기, 직소기, 커터, 탭</td>\n",
       "    </tr>\n",
       "    <tr>\n",
       "      <th>1040</th>\n",
       "      <td>3200305</td>\n",
       "      <td>일상용품&gt;화장품&gt;스킨케어화장품&gt;오일</td>\n",
       "      <td>오일</td>\n",
       "      <td>오일, 스킨오일, 페이셜오일</td>\n",
       "    </tr>\n",
       "    <tr>\n",
       "      <th>1178</th>\n",
       "      <td>3201407</td>\n",
       "      <td>일상용품&gt;화장품&gt;클렌징&gt;클렌징오일</td>\n",
       "      <td>클렌징오일</td>\n",
       "      <td>클렌징오일, 오일형클렌져, 클렌져오일</td>\n",
       "    </tr>\n",
       "    <tr>\n",
       "      <th>1197</th>\n",
       "      <td>3220103</td>\n",
       "      <td>일상용품&gt;담배용품&gt;담배&gt;시가</td>\n",
       "      <td>시가</td>\n",
       "      <td>시가, 바닐라시가, 플레이버시가</td>\n",
       "    </tr>\n",
       "    <tr>\n",
       "      <th>1495</th>\n",
       "      <td>6010207</td>\n",
       "      <td>교육/문화용품&gt;문구/사무용품&gt;일반사무용품&gt;가위</td>\n",
       "      <td>가위</td>\n",
       "      <td>가위, 문서가위, 사무용가위</td>\n",
       "    </tr>\n",
       "    <tr>\n",
       "      <th>1769</th>\n",
       "      <td>6040499</td>\n",
       "      <td>교육/문화용품&gt;악기&gt;국악악기&gt;기타국악악기</td>\n",
       "      <td>기타국악악기</td>\n",
       "      <td>대취타, 소고, 징</td>\n",
       "    </tr>\n",
       "    <tr>\n",
       "      <th>1783</th>\n",
       "      <td>6040704</td>\n",
       "      <td>교육/문화용품&gt;악기&gt;타악기&gt;징</td>\n",
       "      <td>징</td>\n",
       "      <td>징, 국악용징, 학생용징</td>\n",
       "    </tr>\n",
       "  </tbody>\n",
       "</table>\n",
       "</div>"
      ],
      "text/plain": [
       "      KAN_CODE                       전체분류   현재분류명  \\\n",
       "36     1010501           가공식품>조미료>유지류>참기름     참기름   \n",
       "755    3110106        일상용품>주방용품>조리기구>주방가위    주방가위   \n",
       "793    3110405        일상용품>주방용품>주방소모품>수세미     수세미   \n",
       "943    3180499        일상용품>공구>절삭공구>기타절삭공구  기타절삭공구   \n",
       "1040   3200305        일상용품>화장품>스킨케어화장품>오일      오일   \n",
       "1178   3201407         일상용품>화장품>클렌징>클렌징오일   클렌징오일   \n",
       "1197   3220103            일상용품>담배용품>담배>시가      시가   \n",
       "1495   6010207  교육/문화용품>문구/사무용품>일반사무용품>가위      가위   \n",
       "1769   6040499     교육/문화용품>악기>국악악기>기타국악악기  기타국악악기   \n",
       "1783   6040704           교육/문화용품>악기>타악기>징       징   \n",
       "\n",
       "                                               상품예시  \n",
       "36                                  참기름, 생참기름, 맛참기름  \n",
       "755                                 주방가위, 식가위, 식사가위  \n",
       "793                                 수세미, 철수세미, 천수세미  \n",
       "943   가위, 트리머, 다이스, 대패, 루터, 샌더기, 톱, 조각기, 직소기, 커터, 탭  \n",
       "1040                                오일, 스킨오일, 페이셜오일  \n",
       "1178                           클렌징오일, 오일형클렌져, 클렌져오일  \n",
       "1197                              시가, 바닐라시가, 플레이버시가  \n",
       "1495                                가위, 문서가위, 사무용가위  \n",
       "1769                                     대취타, 소고, 징  \n",
       "1783                                  징, 국악용징, 학생용징  "
      ]
     },
     "metadata": {},
     "execution_count": 92
    }
   ],
   "metadata": {}
  },
  {
   "cell_type": "code",
   "execution_count": null,
   "source": [
    "# 상품 설명 보기\n",
    "item[['GDS_DSCRT', 'GDS_SLPNT_DSCRT']].drop_duplicates().values.tolist()"
   ],
   "outputs": [],
   "metadata": {}
  },
  {
   "cell_type": "markdown",
   "source": [
    "# 거래 데이터"
   ],
   "metadata": {}
  },
  {
   "cell_type": "code",
   "execution_count": 3,
   "source": [
    "# 거래데이터\n",
    "# emart24 = ROOT / 'data/emart24Data'\n",
    "# f = emart24 / '001_TRAN/IFAI_001_TRAN_00115.txt'\n",
    "# f = emart24 / '007_DAYQTY/IFAI_007_DAYQTY_00115.txt'\n",
    "# f = emart24 / '008_STRPUR/IFAI_008_STRPUR_00115.txt'\n",
    "# f = emart24 / '009_STRORD/IFAI_009_STRORD_00115.txt'\n",
    "# f = emart24 / 'IFAI_100_RCMQTY_03193.txt'\n",
    "files = (ROOT / 'data/emart24Data/001_TRAN').glob('*.txt')\n",
    "transaction = pd.DataFrame()\n",
    "for i, file in enumerate(files):\n",
    "    transaction = pd.concat([transaction, pd.read_csv(file, sep='|', low_memory=False)], 0)\n",
    "\n",
    "# 파일 수, 데이터 건수\n",
    "i + 1, transaction.shape"
   ],
   "outputs": [
    {
     "output_type": "stream",
     "name": "stderr",
     "text": [
      "UserWarning: Distributing <class 'NoneType'> object. This may take some time.\n"
     ]
    },
    {
     "output_type": "execute_result",
     "data": {
      "text/plain": [
       "(226, (80294983, 95))"
      ]
     },
     "metadata": {},
     "execution_count": 3
    }
   ],
   "metadata": {}
  },
  {
   "cell_type": "code",
   "execution_count": 4,
   "source": [
    "transaction.iloc[:, :10]"
   ],
   "outputs": [
    {
     "output_type": "execute_result",
     "data": {
      "text/html": [
       "<div>\n",
       "<style scoped>\n",
       "    .dataframe tbody tr th:only-of-type {\n",
       "        vertical-align: middle;\n",
       "    }\n",
       "\n",
       "    .dataframe tbody tr th {\n",
       "        vertical-align: top;\n",
       "    }\n",
       "\n",
       "    .dataframe thead th {\n",
       "        text-align: right;\n",
       "    }\n",
       "</style>\n",
       "<table border=\"1\" class=\"dataframe\">\n",
       "  <thead>\n",
       "    <tr style=\"text-align: right;\">\n",
       "      <th></th>\n",
       "      <th>TRAN_YMD</th>\n",
       "      <th>COM_CD</th>\n",
       "      <th>STORE_CD</th>\n",
       "      <th>POS_NO</th>\n",
       "      <th>TRAN_NO</th>\n",
       "      <th>SYS_YMDHMS</th>\n",
       "      <th>TRAN_TYPE</th>\n",
       "      <th>TRAN_TYPE_NM</th>\n",
       "      <th>TRAN_KIND</th>\n",
       "      <th>TRAN_KIND_NM</th>\n",
       "    </tr>\n",
       "  </thead>\n",
       "  <tbody>\n",
       "    <tr>\n",
       "      <th>0</th>\n",
       "      <td>20190101</td>\n",
       "      <td>1002</td>\n",
       "      <td>4890</td>\n",
       "      <td>1</td>\n",
       "      <td>1665</td>\n",
       "      <td>20190101000303</td>\n",
       "      <td>0</td>\n",
       "      <td>통상</td>\n",
       "      <td>0</td>\n",
       "      <td>판매</td>\n",
       "    </tr>\n",
       "    <tr>\n",
       "      <th>1</th>\n",
       "      <td>20190101</td>\n",
       "      <td>1002</td>\n",
       "      <td>4890</td>\n",
       "      <td>1</td>\n",
       "      <td>1666</td>\n",
       "      <td>20190101000352</td>\n",
       "      <td>0</td>\n",
       "      <td>통상</td>\n",
       "      <td>0</td>\n",
       "      <td>판매</td>\n",
       "    </tr>\n",
       "    <tr>\n",
       "      <th>2</th>\n",
       "      <td>20190101</td>\n",
       "      <td>1002</td>\n",
       "      <td>4890</td>\n",
       "      <td>1</td>\n",
       "      <td>1668</td>\n",
       "      <td>20190101000810</td>\n",
       "      <td>0</td>\n",
       "      <td>통상</td>\n",
       "      <td>0</td>\n",
       "      <td>판매</td>\n",
       "    </tr>\n",
       "    <tr>\n",
       "      <th>3</th>\n",
       "      <td>20190101</td>\n",
       "      <td>1002</td>\n",
       "      <td>4890</td>\n",
       "      <td>1</td>\n",
       "      <td>1670</td>\n",
       "      <td>20190101001001</td>\n",
       "      <td>0</td>\n",
       "      <td>통상</td>\n",
       "      <td>0</td>\n",
       "      <td>판매</td>\n",
       "    </tr>\n",
       "    <tr>\n",
       "      <th>4</th>\n",
       "      <td>20190101</td>\n",
       "      <td>1002</td>\n",
       "      <td>4890</td>\n",
       "      <td>1</td>\n",
       "      <td>1670</td>\n",
       "      <td>20190101001001</td>\n",
       "      <td>0</td>\n",
       "      <td>통상</td>\n",
       "      <td>0</td>\n",
       "      <td>판매</td>\n",
       "    </tr>\n",
       "    <tr>\n",
       "      <th>...</th>\n",
       "      <td>...</td>\n",
       "      <td>...</td>\n",
       "      <td>...</td>\n",
       "      <td>...</td>\n",
       "      <td>...</td>\n",
       "      <td>...</td>\n",
       "      <td>...</td>\n",
       "      <td>...</td>\n",
       "      <td>...</td>\n",
       "      <td>...</td>\n",
       "    </tr>\n",
       "    <tr>\n",
       "      <th>303436</th>\n",
       "      <td>20210131</td>\n",
       "      <td>1002</td>\n",
       "      <td>3398</td>\n",
       "      <td>1</td>\n",
       "      <td>1292</td>\n",
       "      <td>20210131234740</td>\n",
       "      <td>0</td>\n",
       "      <td>통상</td>\n",
       "      <td>0</td>\n",
       "      <td>판매</td>\n",
       "    </tr>\n",
       "    <tr>\n",
       "      <th>303437</th>\n",
       "      <td>20210131</td>\n",
       "      <td>1002</td>\n",
       "      <td>3398</td>\n",
       "      <td>1</td>\n",
       "      <td>1292</td>\n",
       "      <td>20210131234740</td>\n",
       "      <td>0</td>\n",
       "      <td>통상</td>\n",
       "      <td>0</td>\n",
       "      <td>판매</td>\n",
       "    </tr>\n",
       "    <tr>\n",
       "      <th>303438</th>\n",
       "      <td>20210131</td>\n",
       "      <td>1002</td>\n",
       "      <td>3398</td>\n",
       "      <td>1</td>\n",
       "      <td>1293</td>\n",
       "      <td>20210131234838</td>\n",
       "      <td>0</td>\n",
       "      <td>통상</td>\n",
       "      <td>0</td>\n",
       "      <td>판매</td>\n",
       "    </tr>\n",
       "    <tr>\n",
       "      <th>303439</th>\n",
       "      <td>20210131</td>\n",
       "      <td>1002</td>\n",
       "      <td>3398</td>\n",
       "      <td>1</td>\n",
       "      <td>1294</td>\n",
       "      <td>20210131235229</td>\n",
       "      <td>0</td>\n",
       "      <td>통상</td>\n",
       "      <td>0</td>\n",
       "      <td>판매</td>\n",
       "    </tr>\n",
       "    <tr>\n",
       "      <th>303440</th>\n",
       "      <td>20210131</td>\n",
       "      <td>1002</td>\n",
       "      <td>3398</td>\n",
       "      <td>1</td>\n",
       "      <td>1294</td>\n",
       "      <td>20210131235229</td>\n",
       "      <td>0</td>\n",
       "      <td>통상</td>\n",
       "      <td>0</td>\n",
       "      <td>판매</td>\n",
       "    </tr>\n",
       "  </tbody>\n",
       "</table>\n",
       "<p>80294983 rows x 10 columns</p>\n",
       "</div>"
      ],
      "text/plain": [
       "        TRAN_YMD  COM_CD  STORE_CD  POS_NO  TRAN_NO      SYS_YMDHMS  \\\n",
       "0       20190101    1002      4890       1     1665  20190101000303   \n",
       "1       20190101    1002      4890       1     1666  20190101000352   \n",
       "2       20190101    1002      4890       1     1668  20190101000810   \n",
       "3       20190101    1002      4890       1     1670  20190101001001   \n",
       "4       20190101    1002      4890       1     1670  20190101001001   \n",
       "...          ...     ...       ...     ...      ...             ...   \n",
       "303436  20210131    1002      3398       1     1292  20210131234740   \n",
       "303437  20210131    1002      3398       1     1292  20210131234740   \n",
       "303438  20210131    1002      3398       1     1293  20210131234838   \n",
       "303439  20210131    1002      3398       1     1294  20210131235229   \n",
       "303440  20210131    1002      3398       1     1294  20210131235229   \n",
       "\n",
       "        TRAN_TYPE TRAN_TYPE_NM  TRAN_KIND TRAN_KIND_NM  \n",
       "0               0           통상          0           판매  \n",
       "1               0           통상          0           판매  \n",
       "2               0           통상          0           판매  \n",
       "3               0           통상          0           판매  \n",
       "4               0           통상          0           판매  \n",
       "...           ...          ...        ...          ...  \n",
       "303436          0           통상          0           판매  \n",
       "303437          0           통상          0           판매  \n",
       "303438          0           통상          0           판매  \n",
       "303439          0           통상          0           판매  \n",
       "303440          0           통상          0           판매  \n",
       "\n",
       "[80294983 rows x 10 columns]"
      ]
     },
     "metadata": {},
     "execution_count": 4
    }
   ],
   "metadata": {}
  },
  {
   "cell_type": "code",
   "execution_count": 5,
   "source": [
    "# 상품 분류 데이터\n",
    "item1 = pd.read_excel(ROOT / 'data/prep/분류명겹침_매핑.xlsx')\n",
    "item2 = pd.read_csv(ROOT / 'data/prep/item_category_matched_with_example.csv')\n",
    "item1.shape, item2.shape"
   ],
   "outputs": [
    {
     "output_type": "stream",
     "name": "stderr",
     "text": [
      "UserWarning: Parallel `read_excel` is a new feature! Please email bug_reports@modin.org if you run into any problems.\n"
     ]
    },
    {
     "output_type": "execute_result",
     "data": {
      "text/plain": [
       "((9088, 48), (29265, 49))"
      ]
     },
     "metadata": {},
     "execution_count": 5
    }
   ],
   "metadata": {}
  },
  {
   "cell_type": "code",
   "execution_count": 6,
   "source": [
    "items = pd.concat([item1, item2], 0)[['PLU_CD', '상품명', '전체분류', '현재분류명', '상품예시']]\n",
    "items['상품명'].unique().shape, items['PLU_CD'].unique().shape, items.shape"
   ],
   "outputs": [
    {
     "output_type": "execute_result",
     "data": {
      "text/plain": [
       "((23120,), (25248,), (38353, 5))"
      ]
     },
     "metadata": {},
     "execution_count": 6
    }
   ],
   "metadata": {}
  },
  {
   "cell_type": "code",
   "execution_count": 7,
   "source": [
    "items.sample(5)"
   ],
   "outputs": [
    {
     "output_type": "execute_result",
     "data": {
      "text/html": [
       "<div>\n",
       "<style scoped>\n",
       "    .dataframe tbody tr th:only-of-type {\n",
       "        vertical-align: middle;\n",
       "    }\n",
       "\n",
       "    .dataframe tbody tr th {\n",
       "        vertical-align: top;\n",
       "    }\n",
       "\n",
       "    .dataframe thead th {\n",
       "        text-align: right;\n",
       "    }\n",
       "</style>\n",
       "<table border=\"1\" class=\"dataframe\">\n",
       "  <thead>\n",
       "    <tr style=\"text-align: right;\">\n",
       "      <th></th>\n",
       "      <th>PLU_CD</th>\n",
       "      <th>상품명</th>\n",
       "      <th>전체분류</th>\n",
       "      <th>현재분류명</th>\n",
       "      <th>상품예시</th>\n",
       "    </tr>\n",
       "  </thead>\n",
       "  <tbody>\n",
       "    <tr>\n",
       "      <th>8266</th>\n",
       "      <td>8809650793643</td>\n",
       "      <td>대정)리코타크렌베리샌드2편</td>\n",
       "      <td>가공식품&gt;빵류/떡류&gt;빵류&gt;조리빵</td>\n",
       "      <td>조리빵</td>\n",
       "      <td>NaN</td>\n",
       "    </tr>\n",
       "    <tr>\n",
       "      <th>1284</th>\n",
       "      <td>8801033793394</td>\n",
       "      <td>정식품)입안가득바나나200ml</td>\n",
       "      <td>가공식품&gt;음료류&gt;기능성/건강음료&gt;두유</td>\n",
       "      <td>두유</td>\n",
       "      <td>NaN</td>\n",
       "    </tr>\n",
       "    <tr>\n",
       "      <th>2256</th>\n",
       "      <td>8801117773700</td>\n",
       "      <td>오리온)뉴팝스위트콘1200</td>\n",
       "      <td>가공식품&gt;과자류&gt;비스킷&gt;스낵</td>\n",
       "      <td>스낵</td>\n",
       "      <td>NaN</td>\n",
       "    </tr>\n",
       "    <tr>\n",
       "      <th>17379</th>\n",
       "      <td>8802039210526</td>\n",
       "      <td>면사랑)닭가슴살치즈크림스파게티2인분</td>\n",
       "      <td>신선식품&gt;축산물&gt;조류&gt;닭고기(부위별)</td>\n",
       "      <td>닭고기(부위별)</td>\n",
       "      <td>닭가슴살</td>\n",
       "    </tr>\n",
       "    <tr>\n",
       "      <th>4274</th>\n",
       "      <td>8801097150010</td>\n",
       "      <td>포카리스웨트캔245ml</td>\n",
       "      <td>일상용품&gt;애완용품&gt;강아지 간식&gt;음료</td>\n",
       "      <td>음료</td>\n",
       "      <td>NaN</td>\n",
       "    </tr>\n",
       "  </tbody>\n",
       "</table>\n",
       "</div>"
      ],
      "text/plain": [
       "              PLU_CD                  상품명                  전체분류     현재분류명  \\\n",
       "8266   8809650793643       대정)리코타크렌베리샌드2편     가공식품>빵류/떡류>빵류>조리빵       조리빵   \n",
       "1284   8801033793394     정식품)입안가득바나나200ml  가공식품>음료류>기능성/건강음료>두유        두유   \n",
       "2256   8801117773700       오리온)뉴팝스위트콘1200       가공식품>과자류>비스킷>스낵        스낵   \n",
       "17379  8802039210526  면사랑)닭가슴살치즈크림스파게티2인분  신선식품>축산물>조류>닭고기(부위별)  닭고기(부위별)   \n",
       "4274   8801097150010         포카리스웨트캔245ml   일상용품>애완용품>강아지 간식>음료        음료   \n",
       "\n",
       "       상품예시  \n",
       "8266    NaN  \n",
       "1284    NaN  \n",
       "2256    NaN  \n",
       "17379  닭가슴살  \n",
       "4274    NaN  "
      ]
     },
     "metadata": {},
     "execution_count": 7
    }
   ],
   "metadata": {}
  },
  {
   "cell_type": "code",
   "execution_count": null,
   "source": [
    "items.sort_values('PLU_CD').to_csv(ROOT / 'data/prep/items.csv', index=False)"
   ],
   "outputs": [
    {
     "output_type": "stream",
     "name": "stderr",
     "text": [
      "UserWarning: sort_values defaulting to pandas implementation.\n",
      "UserWarning: `to_csv` defaulting to pandas implementation.\n"
     ]
    }
   ],
   "metadata": {}
  },
  {
   "cell_type": "code",
   "execution_count": 18,
   "source": [
    "transaction['ITEM_NM'].unique().shape, transaction['PLU_CD'].unique().shape"
   ],
   "outputs": [
    {
     "output_type": "execute_result",
     "data": {
      "text/plain": [
       "((24916,), (17860,))"
      ]
     },
     "metadata": {},
     "execution_count": 18
    }
   ],
   "metadata": {}
  },
  {
   "cell_type": "code",
   "execution_count": 8,
   "source": [
    "trans_filtered = transaction[transaction['PLU_CD'].isin(items['PLU_CD'].unique())]\n",
    "trans_filtered.shape"
   ],
   "outputs": [
    {
     "output_type": "execute_result",
     "data": {
      "text/plain": [
       "(49099013, 95)"
      ]
     },
     "metadata": {},
     "execution_count": 8
    }
   ],
   "metadata": {}
  },
  {
   "cell_type": "code",
   "execution_count": 8,
   "source": [
    "trans_filtered['PLU_CD'].unique().shape, trans_filtered['ITEM_NM'].unique().shape, "
   ],
   "outputs": [],
   "metadata": {}
  },
  {
   "cell_type": "code",
   "execution_count": 39,
   "source": [
    "trans_filtered.iloc[:10, :].merge(items[~items['PLU_CD'].duplicated()], how='left', on='PLU_CD')[['PLU_CD', 'ITEM_NM', '상품명', '전체분류', '현재분류명', '상품예시']]"
   ],
   "outputs": [
    {
     "output_type": "stream",
     "name": "stderr",
     "text": [
      "UserWarning: User-defined function verification is still under development in Modin. The function provided is not verified.\n"
     ]
    },
    {
     "output_type": "execute_result",
     "data": {
      "text/html": [
       "<div>\n",
       "<style scoped>\n",
       "    .dataframe tbody tr th:only-of-type {\n",
       "        vertical-align: middle;\n",
       "    }\n",
       "\n",
       "    .dataframe tbody tr th {\n",
       "        vertical-align: top;\n",
       "    }\n",
       "\n",
       "    .dataframe thead th {\n",
       "        text-align: right;\n",
       "    }\n",
       "</style>\n",
       "<table border=\"1\" class=\"dataframe\">\n",
       "  <thead>\n",
       "    <tr style=\"text-align: right;\">\n",
       "      <th></th>\n",
       "      <th>PLU_CD</th>\n",
       "      <th>ITEM_NM</th>\n",
       "      <th>상품명</th>\n",
       "      <th>전체분류</th>\n",
       "      <th>현재분류명</th>\n",
       "      <th>상품예시</th>\n",
       "    </tr>\n",
       "  </thead>\n",
       "  <tbody>\n",
       "    <tr>\n",
       "      <th>0</th>\n",
       "      <td>8801094202606</td>\n",
       "      <td>스프라이트500ml</td>\n",
       "      <td>스프라이트500ml</td>\n",
       "      <td>일상용품&gt;애완용품&gt;강아지 간식&gt;음료</td>\n",
       "      <td>음료</td>\n",
       "      <td>NaN</td>\n",
       "    </tr>\n",
       "    <tr>\n",
       "      <th>1</th>\n",
       "      <td>6901035603232</td>\n",
       "      <td>비어케이)칭따오캔맥주500ML</td>\n",
       "      <td>비어케이)칭따오캔맥주500ML</td>\n",
       "      <td>가공식품&gt;주류&gt;양조주&gt;맥주</td>\n",
       "      <td>맥주</td>\n",
       "      <td>NaN</td>\n",
       "    </tr>\n",
       "    <tr>\n",
       "      <th>2</th>\n",
       "      <td>4901004006813</td>\n",
       "      <td>롯데아사히)캔맥주500ML</td>\n",
       "      <td>롯데아사히)캔맥주500ML</td>\n",
       "      <td>가공식품&gt;주류&gt;양조주&gt;맥주</td>\n",
       "      <td>맥주</td>\n",
       "      <td>NaN</td>\n",
       "    </tr>\n",
       "    <tr>\n",
       "      <th>3</th>\n",
       "      <td>8809429238283</td>\n",
       "      <td>SF)뉴전주비빔삼각김밥2편</td>\n",
       "      <td>SF)뉴전주비빔삼각김밥2편</td>\n",
       "      <td>가공식품&gt;즉석/편의식품&gt;편의식품&gt;김밥</td>\n",
       "      <td>김밥</td>\n",
       "      <td>삼각김밥</td>\n",
       "    </tr>\n",
       "    <tr>\n",
       "      <th>4</th>\n",
       "      <td>7038516550309</td>\n",
       "      <td>조르단)인디비주얼칫솔</td>\n",
       "      <td>조르단)인디비주얼칫솔</td>\n",
       "      <td>일상용품&gt;위생용품&gt;구강위생용품&gt;칫솔</td>\n",
       "      <td>칫솔</td>\n",
       "      <td>NaN</td>\n",
       "    </tr>\n",
       "    <tr>\n",
       "      <th>5</th>\n",
       "      <td>8801056018900</td>\n",
       "      <td>칸타타)아메리카노캔275ml</td>\n",
       "      <td>칸타타)아메리카노캔275ml</td>\n",
       "      <td>일상용품&gt;애완용품&gt;강아지 간식&gt;음료</td>\n",
       "      <td>음료</td>\n",
       "      <td>NaN</td>\n",
       "    </tr>\n",
       "    <tr>\n",
       "      <th>6</th>\n",
       "      <td>8801048311002</td>\n",
       "      <td>하이트)이슬톡톡복숭아355ML</td>\n",
       "      <td>하이트)이슬톡톡복숭아355ML</td>\n",
       "      <td>가공식품&gt;주류&gt;양조주&gt;맥주</td>\n",
       "      <td>맥주</td>\n",
       "      <td>NaN</td>\n",
       "    </tr>\n",
       "    <tr>\n",
       "      <th>7</th>\n",
       "      <td>6901035603232</td>\n",
       "      <td>비어케이)칭따오캔맥주500ML</td>\n",
       "      <td>비어케이)칭따오캔맥주500ML</td>\n",
       "      <td>가공식품&gt;주류&gt;양조주&gt;맥주</td>\n",
       "      <td>맥주</td>\n",
       "      <td>NaN</td>\n",
       "    </tr>\n",
       "    <tr>\n",
       "      <th>8</th>\n",
       "      <td>8801056080457</td>\n",
       "      <td>칸타타)아메리카노캔390ml</td>\n",
       "      <td>칸타타)아메리카노캔390ml</td>\n",
       "      <td>일상용품&gt;애완용품&gt;강아지 간식&gt;음료</td>\n",
       "      <td>음료</td>\n",
       "      <td>NaN</td>\n",
       "    </tr>\n",
       "    <tr>\n",
       "      <th>9</th>\n",
       "      <td>8808244201045</td>\n",
       "      <td>광동)삼다수2L</td>\n",
       "      <td>광동)삼다수2L</td>\n",
       "      <td>일상용품&gt;애완용품&gt;강아지 간식&gt;음료</td>\n",
       "      <td>음료</td>\n",
       "      <td>NaN</td>\n",
       "    </tr>\n",
       "  </tbody>\n",
       "</table>\n",
       "</div>"
      ],
      "text/plain": [
       "          PLU_CD           ITEM_NM               상품명                  전체분류  \\\n",
       "0  8801094202606        스프라이트500ml        스프라이트500ml   일상용품>애완용품>강아지 간식>음료   \n",
       "1  6901035603232  비어케이)칭따오캔맥주500ML  비어케이)칭따오캔맥주500ML        가공식품>주류>양조주>맥주   \n",
       "2  4901004006813    롯데아사히)캔맥주500ML    롯데아사히)캔맥주500ML        가공식품>주류>양조주>맥주   \n",
       "3  8809429238283    SF)뉴전주비빔삼각김밥2편    SF)뉴전주비빔삼각김밥2편  가공식품>즉석/편의식품>편의식품>김밥   \n",
       "4  7038516550309       조르단)인디비주얼칫솔       조르단)인디비주얼칫솔   일상용품>위생용품>구강위생용품>칫솔   \n",
       "5  8801056018900   칸타타)아메리카노캔275ml   칸타타)아메리카노캔275ml   일상용품>애완용품>강아지 간식>음료   \n",
       "6  8801048311002  하이트)이슬톡톡복숭아355ML  하이트)이슬톡톡복숭아355ML        가공식품>주류>양조주>맥주   \n",
       "7  6901035603232  비어케이)칭따오캔맥주500ML  비어케이)칭따오캔맥주500ML        가공식품>주류>양조주>맥주   \n",
       "8  8801056080457   칸타타)아메리카노캔390ml   칸타타)아메리카노캔390ml   일상용품>애완용품>강아지 간식>음료   \n",
       "9  8808244201045          광동)삼다수2L          광동)삼다수2L   일상용품>애완용품>강아지 간식>음료   \n",
       "\n",
       "  현재분류명  상품예시  \n",
       "0    음료   NaN  \n",
       "1    맥주   NaN  \n",
       "2    맥주   NaN  \n",
       "3    김밥  삼각김밥  \n",
       "4    칫솔   NaN  \n",
       "5    음료   NaN  \n",
       "6    맥주   NaN  \n",
       "7    맥주   NaN  \n",
       "8    음료   NaN  \n",
       "9    음료   NaN  "
      ]
     },
     "metadata": {},
     "execution_count": 39
    }
   ],
   "metadata": {}
  },
  {
   "cell_type": "code",
   "execution_count": 11,
   "source": [
    "trans_filtered['YMD'] = trans_filtered['SYS_YMDHMS'].apply(lambda row: datetime.strptime(f'{row // 1000000}', '%Y%m%d'))\n",
    "trans_filtered['time'] = trans_filtered['SYS_YMDHMS'].apply(lambda row: time(hour=row % 1000000 // 10000).strftime('%H:%M:%S'))"
   ],
   "outputs": [],
   "metadata": {}
  },
  {
   "cell_type": "code",
   "execution_count": 40,
   "source": [
    "trans_filtered = trans_filtered.merge(items[~items['PLU_CD'].duplicated()], how='left', on='PLU_CD')"
   ],
   "outputs": [
    {
     "output_type": "stream",
     "name": "stderr",
     "text": [
      "UserWarning: User-defined function verification is still under development in Modin. The function provided is not verified.\n"
     ]
    }
   ],
   "metadata": {}
  },
  {
   "cell_type": "code",
   "execution_count": 45,
   "source": [
    "trans_filtered.shape"
   ],
   "outputs": [
    {
     "output_type": "execute_result",
     "data": {
      "text/plain": [
       "(128091299, 101)"
      ]
     },
     "metadata": {},
     "execution_count": 45
    }
   ],
   "metadata": {}
  },
  {
   "cell_type": "code",
   "execution_count": 42,
   "source": [
    "for g, df in trans_filtered.groupby('YMD'):\n",
    "    # print(g, df.shape)\n",
    "    g = g[:10].replace('-', '')\n",
    "    df.to_csv(ROOT / f'data/prep/transactions/{g}.csv', index=False)\n",
    "    # df.to_parquet('output.parquet', )"
   ],
   "outputs": [
    {
     "output_type": "stream",
     "name": "stderr",
     "text": [
      "UserWarning: `to_csv` defaulting to pandas implementation.\n"
     ]
    }
   ],
   "metadata": {}
  },
  {
   "cell_type": "code",
   "execution_count": 57,
   "source": [
    "# 파일명 잘못된거 바꾸기\n",
    "# for f in sorted((ROOT / 'data/prep/transactions').glob('*.csv')):\n",
    "#     new_f = f.parent / f\"{f.name[:10].replace('-', '')}.csv\"\n",
    "#     pd.read_csv(f).to_csv(new_f, index=False)"
   ],
   "outputs": [
    {
     "output_type": "stream",
     "name": "stderr",
     "text": [
      "UserWarning: `to_csv` defaulting to pandas implementation.\n"
     ]
    }
   ],
   "metadata": {}
  },
  {
   "cell_type": "code",
   "execution_count": 59,
   "source": [
    "trans_filtered = pd.DataFrame()\n",
    "for f in sorted((ROOT / 'data/prep/transactions').glob('*.csv')):\n",
    "    # print(g, df.shape)\n",
    "    trans_filtered = pd.concat([trans_filtered, pd.read_csv(f)])\n",
    "trans_filtered.shape"
   ],
   "outputs": [
    {
     "output_type": "execute_result",
     "data": {
      "text/plain": [
       "(49099013, 101)"
      ]
     },
     "metadata": {},
     "execution_count": 59
    }
   ],
   "metadata": {}
  },
  {
   "cell_type": "code",
   "execution_count": 68,
   "source": [
    "temp_df = trans_filtered['YMD'].value_counts().reset_index()\n",
    "temp_df['x'] = temp_df['index'].apply(lambda row: datetime.strptime(str(row), '%Y-%m-%d'))\n",
    "fig = px.bar(temp_df, x='x', y='YMD')\n",
    "fig.show()"
   ],
   "outputs": [
    {
     "output_type": "stream",
     "name": "stderr",
     "text": [
      "UserWarning: value_counts defaulting to pandas implementation.\n"
     ]
    }
   ],
   "metadata": {}
  },
  {
   "cell_type": "code",
   "execution_count": null,
   "source": [
    "temp_df = trans_filtered['time'].value_counts().reset_index().sort_values('index')\n",
    "# temp_df['index'] = temp_df['index'].apply(lambda row: time(hour=int(row[:2]), minute=int(row[2:4]), second=int(row[4:])).strftime('%H:%M:%S'))\n",
    "temp_df['x'] = temp_df['index'].apply(lambda row: time(hour=row).strftime('%H:%M:%S'))\n",
    "fig = px.bar(temp_df, x='index', y='time')\n",
    "fig.show()"
   ],
   "outputs": [],
   "metadata": {}
  },
  {
   "cell_type": "code",
   "execution_count": null,
   "source": [],
   "outputs": [],
   "metadata": {}
  }
 ],
 "metadata": {
  "orig_nbformat": 4,
  "language_info": {
   "name": "python",
   "version": "3.8.10",
   "mimetype": "text/x-python",
   "codemirror_mode": {
    "name": "ipython",
    "version": 3
   },
   "pygments_lexer": "ipython3",
   "nbconvert_exporter": "python",
   "file_extension": ".py"
  },
  "kernelspec": {
   "name": "python3",
   "display_name": "Python 3.8.10 64-bit ('cuda111': conda)"
  },
  "interpreter": {
   "hash": "a766d13029083ab036f630bd634af3f1c20371f2228b0708e3eee18c0a0e1a87"
  }
 },
 "nbformat": 4,
 "nbformat_minor": 2
}