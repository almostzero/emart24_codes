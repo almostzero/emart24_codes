{
 "cells": [
  {
   "cell_type": "markdown",
   "source": [
    "# import and root path definition"
   ],
   "metadata": {}
  },
  {
   "cell_type": "code",
   "execution_count": null,
   "source": [
    "import re\n",
    "import sys\n",
    "from pathlib import Path\n",
    "from collections import Counter\n",
    "from datetime import datetime, time\n",
    "\n",
    "import numpy as np\n",
    "import pandas as pd\n",
    "import plotly.express as px\n",
    "import plotly.graph_objects as go"
   ],
   "outputs": [],
   "metadata": {}
  },
  {
   "cell_type": "code",
   "execution_count": null,
   "source": [
    "ROOT = Path('/home/jun0/Projects/emart24')\n",
    "sys.path.append(str(ROOT))\n",
    "print(sys.path)"
   ],
   "outputs": [],
   "metadata": {}
  },
  {
   "cell_type": "markdown",
   "source": [
    "# 분류 체계 확장"
   ],
   "metadata": {}
  },
  {
   "cell_type": "code",
   "execution_count": null,
   "source": [
    "# 카테고리 데이터\n",
    "category = pd.read_excel(ROOT / 'data/category.xlsx')\n",
    "category.columns = ['KAN_CODE', '전체분류', '현재분류명', '상품예시']\n",
    "\n",
    "# 상품 마스터 데이터\n",
    "item = pd.read_csv(ROOT / 'data/prep/02.설명이추가된 상품마스터_20210325.csv', sep='|', dtype=str)\n",
    "item['점포발주입수수량'] = item['점포발주입수수량'].fillna(0)\n",
    "item['공급가'] = item['공급가'].fillna(0).apply(lambda x: round(float(x)))\n",
    "item['매가'] = item['매가'].fillna(0)\n",
    "item['점포유통기한일수'] = item['점포유통기한일수'].fillna(0)\n",
    "item = item.astype({'점포발주입수수량': int, '공급가': int, '매가': int, '점포유통기한일수': int})\n",
    "\n",
    "# shapes\n",
    "category.shape, item.shape"
   ],
   "outputs": [],
   "metadata": {}
  },
  {
   "cell_type": "code",
   "execution_count": null,
   "source": [
    "category.head(2)"
   ],
   "outputs": [],
   "metadata": {}
  },
  {
   "cell_type": "code",
   "execution_count": null,
   "source": [
    "contained = item.fillna('').apply(lambda row: (row['GDS_SLPNT_DSCRT'] in row['GDS_DSCRT']) & bool(row['GDS_DSCRT']) & bool(row['GDS_SLPNT_DSCRT']), axis=1)\n",
    "contained_reverse = item.fillna('').apply(lambda row: (row['GDS_DSCRT'] in row['GDS_SLPNT_DSCRT']) & bool(row['GDS_DSCRT']) & bool(row['GDS_SLPNT_DSCRT']), axis=1)\n",
    "only_dscrt = item['GDS_DSCRT'].isna() & ~item['GDS_SLPNT_DSCRT'].isna()\n",
    "only_slpnt = ~item['GDS_DSCRT'].isna() & item['GDS_SLPNT_DSCRT'].isna()"
   ],
   "outputs": [],
   "metadata": {}
  },
  {
   "cell_type": "code",
   "execution_count": null,
   "source": [
    "item[item.fillna('').apply(lambda row: (row['GDS_SLPNT_DSCRT'] != row['GDS_DSCRT']) & (row['GDS_DSCRT'] in row['GDS_SLPNT_DSCRT']) & bool(row['GDS_DSCRT']) & bool(row['GDS_SLPNT_DSCRT']), axis=1)][['상품명', 'GDS_DSCRT', 'GDS_SLPNT_DSCRT']]"
   ],
   "outputs": [],
   "metadata": {}
  },
  {
   "cell_type": "code",
   "execution_count": null,
   "source": [
    "item[item['GDS_DSCRT'].isna() & item['GDS_SLPNT_DSCRT'].isna()].shape"
   ],
   "outputs": [],
   "metadata": {}
  },
  {
   "cell_type": "code",
   "execution_count": null,
   "source": [
    "item[item.fillna('').apply(lambda row: bool(row['GDS_DSCRT']) & bool(row['GDS_SLPNT_DSCRT']), axis=1)].shape"
   ],
   "outputs": [],
   "metadata": {}
  },
  {
   "cell_type": "code",
   "execution_count": null,
   "source": [
    "3624 / 13869"
   ],
   "outputs": [],
   "metadata": {}
  },
  {
   "cell_type": "code",
   "execution_count": null,
   "source": [
    "item[contained][['상품명', 'GDS_DSCRT', 'GDS_SLPNT_DSCRT']].shape"
   ],
   "outputs": [],
   "metadata": {}
  },
  {
   "cell_type": "code",
   "execution_count": null,
   "source": [
    "item[only_dscrt][['상품명', 'GDS_DSCRT', 'GDS_SLPNT_DSCRT']].shape"
   ],
   "outputs": [],
   "metadata": {}
  },
  {
   "cell_type": "code",
   "execution_count": null,
   "source": [
    "item[only_slpnt][['상품명', 'GDS_DSCRT', 'GDS_SLPNT_DSCRT']].shape"
   ],
   "outputs": [],
   "metadata": {}
  },
  {
   "cell_type": "code",
   "execution_count": null,
   "source": [
    "item[contained_reverse][['상품명', 'GDS_DSCRT', 'GDS_SLPNT_DSCRT']].shape"
   ],
   "outputs": [],
   "metadata": {}
  },
  {
   "cell_type": "code",
   "execution_count": null,
   "source": [
    "item[~contained][['상품명', 'GDS_DSCRT', 'GDS_SLPNT_DSCRT']].shape"
   ],
   "outputs": [],
   "metadata": {}
  },
  {
   "cell_type": "code",
   "execution_count": null,
   "source": [
    "temp = pd.read_csv(ROOT / 'data/prep/02.설명이추가된 상품마스터_20210325.csv', sep='|', dtype=str)\n",
    "temp[temp['점포발주입수수량'].isna() | temp['공급가'].isna() | temp['매가'].isna() | temp['점포유통기한일수'].isna()][['점포발주입수수량', '공급가', '매가', '점포유통기한일수']]"
   ],
   "outputs": [],
   "metadata": {}
  },
  {
   "cell_type": "code",
   "execution_count": null,
   "source": [
    "# 전체 카테고리\n",
    "all_category = []\n",
    "temp = pd.DataFrame(category['전체분류'].apply(lambda row: row.split('>')).tolist())\n",
    "for col in temp.columns:\n",
    "    all_category += temp[col].unique().tolist()\n",
    "unique_category = set(all_category)\n",
    "len(all_category), len(unique_category)"
   ],
   "outputs": [],
   "metadata": {}
  },
  {
   "cell_type": "code",
   "execution_count": null,
   "source": [
    "# 전체분류 마지막 항목과 현재분류명 일치하지 않는 케이스\n",
    "category[~(category['전체분류'].apply(lambda row: row.split('>')[-1]) == category['현재분류명'])]"
   ],
   "outputs": [],
   "metadata": {}
  },
  {
   "cell_type": "code",
   "execution_count": null,
   "source": [
    "# 전처리해야할 대상들\n",
    "category[category['전체분류'].duplicated(keep=False)]"
   ],
   "outputs": [],
   "metadata": {}
  },
  {
   "cell_type": "code",
   "execution_count": null,
   "source": [
    "# category의 아이템\n",
    "category_item = [x for lst in category['상품예시'].apply(lambda row: [x.strip() for x in row.split(',')]).tolist() for x in lst]\n",
    "# '' 제거\n",
    "category_item = list(filter(lambda x: x != '', category_item))\n",
    "category_item_unique = set(category_item)\n",
    "category_item_unique = list(category_item_unique)[1:]\n",
    "len(category_item), len(category_item_unique)"
   ],
   "outputs": [],
   "metadata": {}
  },
  {
   "cell_type": "code",
   "execution_count": null,
   "source": [
    "# unique 한 상품명\n",
    "item_unique_bool = ~item['상품명'].duplicated()\n",
    "# 분류가 겹치는 아이템\n",
    "overlap = item_unique_bool & (item['대분류명'].isin(unique_category) | item['중분류명'].isin(unique_category) | item['소분류명'].isin(unique_category))\n",
    "# 단순 일치하는 상품명\n",
    "exact_match_bool = item_unique_bool & item['상품명'].isin(category_item_unique)\n",
    "# 상품명에 포함된 상품예시\n",
    "contain_bool = item_unique_bool & item['상품명'].apply(lambda x: bool([i for i in category_item_unique if i in x]))\n",
    "item['상품예시'] = item['상품명'].apply(lambda x: [i for i in category_item_unique if i in x])\n",
    "item['카테고리'] = ''\n",
    "\n",
    "item[overlap].shape, item[exact_match_bool].shape, item[contain_bool].shape, item[overlap | contain_bool].shape"
   ],
   "outputs": [],
   "metadata": {}
  },
  {
   "cell_type": "code",
   "execution_count": null,
   "source": [
    "item[item['상품예시'].apply(lambda row: bool([x for x in row if len(x) > 1]))][['PLU_CD', '상품명', '상품예시', '카테고리']].sample(100)"
   ],
   "outputs": [],
   "metadata": {}
  },
  {
   "cell_type": "code",
   "execution_count": null,
   "source": [
    "temp_item_list = ['징', '오일', '클렌징오일', '참기름', '수세미', '시가', '주방가위', '가위']\n",
    "temp_bool = category['상품예시'].apply(lambda row: any([x.strip() in temp_item_list for x in row.split(',')]))\n",
    "category[temp_bool].head(10)"
   ],
   "outputs": [],
   "metadata": {}
  },
  {
   "cell_type": "code",
   "execution_count": null,
   "source": [
    "# 상품 설명 보기\n",
    "item[['GDS_DSCRT', 'GDS_SLPNT_DSCRT']].drop_duplicates().values.tolist()"
   ],
   "outputs": [],
   "metadata": {}
  },
  {
   "cell_type": "markdown",
   "source": [
    "# 거래 데이터"
   ],
   "metadata": {}
  },
  {
   "cell_type": "code",
   "execution_count": null,
   "source": [
    "# 거래데이터\n",
    "# emart24 = ROOT / 'data/emart24Data'\n",
    "# f = emart24 / '001_TRAN/IFAI_001_TRAN_00115.txt'\n",
    "# f = emart24 / '007_DAYQTY/IFAI_007_DAYQTY_00115.txt'\n",
    "# f = emart24 / '008_STRPUR/IFAI_008_STRPUR_00115.txt'\n",
    "# f = emart24 / '009_STRORD/IFAI_009_STRORD_00115.txt'\n",
    "# f = emart24 / 'IFAI_100_RCMQTY_03193.txt'\n",
    "files = (ROOT / 'data/emart24Data/001_TRAN').glob('*.txt')\n",
    "transaction = pd.DataFrame()\n",
    "for i, file in enumerate(files):\n",
    "    transaction = pd.concat([transaction, pd.read_csv(file, sep='|', low_memory=False)], 0)\n",
    "\n",
    "# 파일 수, 데이터 건수\n",
    "i + 1, transaction.shape"
   ],
   "outputs": [],
   "metadata": {}
  },
  {
   "cell_type": "code",
   "execution_count": null,
   "source": [
    "transaction.iloc[:, :10]"
   ],
   "outputs": [],
   "metadata": {}
  },
  {
   "cell_type": "code",
   "execution_count": null,
   "source": [
    "# 상품 분류 데이터\n",
    "item1 = pd.read_excel(ROOT / 'data/prep/분류명겹침_매핑.xlsx')\n",
    "item2 = pd.read_csv(ROOT / 'data/prep/item_category_matched_with_example.csv')\n",
    "item1.shape, item2.shape"
   ],
   "outputs": [],
   "metadata": {}
  },
  {
   "cell_type": "code",
   "execution_count": null,
   "source": [
    "items = pd.concat([item1, item2], 0)[['PLU_CD', '상품명', '전체분류', '현재분류명', '상품예시']]\n",
    "items['상품명'].unique().shape, items['PLU_CD'].unique().shape, items.shape"
   ],
   "outputs": [],
   "metadata": {}
  },
  {
   "cell_type": "code",
   "execution_count": null,
   "source": [
    "items.sample(5)"
   ],
   "outputs": [],
   "metadata": {}
  },
  {
   "cell_type": "code",
   "execution_count": null,
   "source": [
    "transaction['ITEM_NM'].unique().shape, transaction['PLU_CD'].unique().shape"
   ],
   "outputs": [],
   "metadata": {}
  },
  {
   "cell_type": "code",
   "execution_count": null,
   "source": [
    "trans_filtered = transaction[transaction['PLU_CD'].isin(items['PLU_CD'].unique())]\n",
    "trans_filtered.shape"
   ],
   "outputs": [],
   "metadata": {}
  },
  {
   "cell_type": "code",
   "execution_count": null,
   "source": [
    "trans_filtered['PLU_CD'].unique().shape, trans_filtered['ITEM_NM'].unique().shape, "
   ],
   "outputs": [],
   "metadata": {}
  },
  {
   "cell_type": "code",
   "execution_count": null,
   "source": [
    "trans_filtered.iloc[:100, :].merge(items, how='left', on='PLU_CD')[['PLU_CD', 'ITEM_NM', '상품명', '전체분류', '현재분류명', '상품예시']]"
   ],
   "outputs": [],
   "metadata": {}
  },
  {
   "cell_type": "code",
   "execution_count": null,
   "source": [
    "trans_filtered = trans_filtered.merge(items, how='left', on='PLU_CD')"
   ],
   "outputs": [],
   "metadata": {}
  },
  {
   "cell_type": "code",
   "execution_count": null,
   "source": [
    "trans_filtered.keys()"
   ],
   "outputs": [],
   "metadata": {}
  },
  {
   "cell_type": "code",
   "execution_count": null,
   "source": [
    "# save as csv files\n",
    "for g, df in trans_filtered.groupby('YMD'):\n",
    "    # print(g, df.shape)\n",
    "    df.to_csv(ROOT / f'data/prep/transactions/{g}.csv', index=False)"
   ],
   "outputs": [],
   "metadata": {}
  },
  {
   "cell_type": "markdown",
   "source": [
    "# Start from reading filtered transactions"
   ],
   "metadata": {}
  },
  {
   "cell_type": "code",
   "execution_count": 1,
   "source": [
    "import re\n",
    "import sys\n",
    "from pathlib import Path\n",
    "from collections import Counter\n",
    "from datetime import datetime, time\n",
    "\n",
    "import numpy as np\n",
    "import pandas as pd\n",
    "import plotly.express as px\n",
    "import plotly.graph_objects as go\n",
    "ROOT = Path('/home/jun0/Projects/emart24')\n",
    "sys.path.append(str(ROOT))\n",
    "print(sys.path)"
   ],
   "outputs": [
    {
     "output_type": "stream",
     "name": "stdout",
     "text": [
      "['/home/yoonho/Desktop/emart24_codes_local/LYH', '/home/yoonho/.vscode-server/extensions/ms-toolsai.jupyter-2021.8.2041215044/pythonFiles', '/home/yoonho/.vscode-server/extensions/ms-toolsai.jupyter-2021.8.2041215044/pythonFiles/lib/python', '/home/yoonho/anaconda3/envs/models/lib/python37.zip', '/home/yoonho/anaconda3/envs/models/lib/python3.7', '/home/yoonho/anaconda3/envs/models/lib/python3.7/lib-dynload', '', '/home/yoonho/anaconda3/envs/models/lib/python3.7/site-packages', '/home/yoonho/anaconda3/envs/models/lib/python3.7/site-packages/IPython/extensions', '/home/yoonho/.ipython', '/home/jun0/Projects/emart24']\n"
     ]
    }
   ],
   "metadata": {}
  },
  {
   "cell_type": "code",
   "execution_count": 2,
   "source": [
    "# read items\n",
    "item1 = pd.read_excel(ROOT / 'data/prep/분류명겹침_매핑.xlsx', engine='openpyxl')\n",
    "item2 = pd.read_csv(ROOT / 'data/prep/item_category_matched_with_example.csv')\n",
    "items = pd.concat([item1, item2], 0)[['PLU_CD', '상품명', '전체분류', '현재분류명', '상품예시']]\n",
    "items['상품명'].unique().shape, items['PLU_CD'].unique().shape, items.shape"
   ],
   "outputs": [
    {
     "output_type": "stream",
     "name": "stderr",
     "text": [
      "/home/yoonho/anaconda3/envs/models/lib/python3.7/site-packages/IPython/core/interactiveshell.py:3170: DtypeWarning: Columns (35) have mixed types.Specify dtype option on import or set low_memory=False.\n",
      "  interactivity=interactivity, compiler=compiler, result=result)\n"
     ]
    },
    {
     "output_type": "execute_result",
     "data": {
      "text/plain": [
       "((23120,), (25248,), (38353, 5))"
      ]
     },
     "metadata": {},
     "execution_count": 2
    }
   ],
   "metadata": {}
  },
  {
   "cell_type": "code",
   "execution_count": 3,
   "source": [
    "# read from file\n",
    "from tqdm import tqdm\n",
    "trans_filtered = pd.DataFrame()\n",
    "counter = 0\n",
    "for f in tqdm(sorted((ROOT / 'data/prep/transactions').glob('*.csv'))):\n",
    "    if counter >= 30:   # remove counter to read total file\n",
    "        break\n",
    "    # print(g, df.shape)\n",
    "    trans_filtered = pd.concat([trans_filtered, pd.read_csv(f)])\n",
    "    counter+=1\n",
    "trans_filtered.shape"
   ],
   "outputs": [
    {
     "output_type": "stream",
     "name": "stderr",
     "text": [
      "  4%|▍         | 30/762 [01:32<37:35,  3.08s/it]  \n"
     ]
    },
    {
     "output_type": "execute_result",
     "data": {
      "text/plain": [
       "(2777394, 100)"
      ]
     },
     "metadata": {},
     "execution_count": 3
    }
   ],
   "metadata": {}
  },
  {
   "cell_type": "code",
   "execution_count": 4,
   "source": [
    "# 참고 코드\n",
    "trans_filtered['YMD'] = trans_filtered['SYS_YMDHMS'].apply(lambda row: row // 1000000)\n",
    "trans_filtered['time'] = trans_filtered['SYS_YMDHMS'].apply(lambda row: f'{row % 1000000:06d}')\n",
    "trans_filtered['hour'] = trans_filtered['SYS_YMDHMS'].apply(lambda row: f'{(row % 1000000) // 10000:02d}')\n",
    "#trans_filtered.head()"
   ],
   "outputs": [],
   "metadata": {}
  },
  {
   "cell_type": "code",
   "execution_count": null,
   "source": [
    "## 참고 코드\n",
    "#temp_df = trans_filtered['YMD'].value_counts().reset_index()\n",
    "#temp_df['index'] = temp_df['index'].apply(lambda row: datetime.strptime(str(row), '%Y%m%d'))\n",
    "#fig = px.bar(temp_df, x='index', y='YMD')\n",
    "#fig.show()\n",
    "#temp_df = trans_filtered['time'].value_counts().reset_index().sort_values('index')\n",
    "## temp_df['index'] = temp_df['index'].apply(lambda row: time(hour=int(row[:2]), minute=int(row[2:4]), second=int(row[4:])).strftime('%H:%M:%S'))\n",
    "#temp_df['index'] = temp_df['index'].apply(lambda row: time(hour=int(row[:2]), minute=int(row[2:4])).strftime('%H:%M:%S'))\n",
    "#fig = px.bar(temp_df, x='index', y='time')\n",
    "#fig.show()"
   ],
   "outputs": [],
   "metadata": {}
  },
  {
   "cell_type": "code",
   "execution_count": 5,
   "source": [
    "category_large = list(set([a.split('>')[0] for a in trans_filtered['전체분류']]))\n",
    "print(category_large)\n",
    "print(\"대분류 수: \",len(category_large))"
   ],
   "outputs": [
    {
     "output_type": "stream",
     "name": "stdout",
     "text": [
      "['신선식품', '기타상품', '교육/문화용품', '가구/인테리어', '전문스포츠/레저', '패션잡화', '일상용품', '의류', '의약품/의료기기', '디지털/가전', '가공식품']\n",
      "대분류 수:  11\n"
     ]
    }
   ],
   "metadata": {}
  },
  {
   "cell_type": "code",
   "execution_count": 6,
   "source": [
    "temp_category_large = pd.DataFrame([a.split('>')[0] for a in trans_filtered['전체분류']],columns=['대분류'])\n",
    "hour_data = pd.DataFrame(list(trans_filtered['hour']), columns=['시간'])\n",
    "our_interest = pd.concat([temp_category_large, hour_data], axis=1)\n",
    "our_interest.head()\n"
   ],
   "outputs": [
    {
     "output_type": "execute_result",
     "data": {
      "text/html": [
       "<div>\n",
       "<style scoped>\n",
       "    .dataframe tbody tr th:only-of-type {\n",
       "        vertical-align: middle;\n",
       "    }\n",
       "\n",
       "    .dataframe tbody tr th {\n",
       "        vertical-align: top;\n",
       "    }\n",
       "\n",
       "    .dataframe thead th {\n",
       "        text-align: right;\n",
       "    }\n",
       "</style>\n",
       "<table border=\"1\" class=\"dataframe\">\n",
       "  <thead>\n",
       "    <tr style=\"text-align: right;\">\n",
       "      <th></th>\n",
       "      <th>대분류</th>\n",
       "      <th>시간</th>\n",
       "    </tr>\n",
       "  </thead>\n",
       "  <tbody>\n",
       "    <tr>\n",
       "      <th>0</th>\n",
       "      <td>일상용품</td>\n",
       "      <td>00</td>\n",
       "    </tr>\n",
       "    <tr>\n",
       "      <th>1</th>\n",
       "      <td>일상용품</td>\n",
       "      <td>00</td>\n",
       "    </tr>\n",
       "    <tr>\n",
       "      <th>2</th>\n",
       "      <td>가공식품</td>\n",
       "      <td>00</td>\n",
       "    </tr>\n",
       "    <tr>\n",
       "      <th>3</th>\n",
       "      <td>가공식품</td>\n",
       "      <td>00</td>\n",
       "    </tr>\n",
       "    <tr>\n",
       "      <th>4</th>\n",
       "      <td>가공식품</td>\n",
       "      <td>00</td>\n",
       "    </tr>\n",
       "  </tbody>\n",
       "</table>\n",
       "</div>"
      ],
      "text/plain": [
       "    대분류  시간\n",
       "0  일상용품  00\n",
       "1  일상용품  00\n",
       "2  가공식품  00\n",
       "3  가공식품  00\n",
       "4  가공식품  00"
      ]
     },
     "metadata": {},
     "execution_count": 6
    }
   ],
   "metadata": {}
  },
  {
   "cell_type": "code",
   "execution_count": 7,
   "source": [
    "hour_statistics = pd.DataFrame(columns=['대분류','00','01','02','03','04','05','06', '07', '08', '09', '10','11','12','13','14','15','16', '17', '18', '19', '20', '21', '22', '23' ])\n",
    "for category_index in range(len(category_large)):\n",
    "    temp_c_i = our_interest[our_interest['대분류']==category_large[category_index]]\n",
    "    counted=[0 for k in range(24)]\n",
    "    for i in range(24):\n",
    "        counted[i] = sum(temp_c_i['시간']==f'{i:02d}')\n",
    "    hour_statistics.loc[len(hour_statistics)] = [category_large[category_index]]+counted"
   ],
   "outputs": [],
   "metadata": {}
  },
  {
   "cell_type": "code",
   "execution_count": 8,
   "source": [
    "hour_statistics"
   ],
   "outputs": [
    {
     "output_type": "execute_result",
     "data": {
      "text/html": [
       "<div>\n",
       "<style scoped>\n",
       "    .dataframe tbody tr th:only-of-type {\n",
       "        vertical-align: middle;\n",
       "    }\n",
       "\n",
       "    .dataframe tbody tr th {\n",
       "        vertical-align: top;\n",
       "    }\n",
       "\n",
       "    .dataframe thead th {\n",
       "        text-align: right;\n",
       "    }\n",
       "</style>\n",
       "<table border=\"1\" class=\"dataframe\">\n",
       "  <thead>\n",
       "    <tr style=\"text-align: right;\">\n",
       "      <th></th>\n",
       "      <th>대분류</th>\n",
       "      <th>00</th>\n",
       "      <th>01</th>\n",
       "      <th>02</th>\n",
       "      <th>03</th>\n",
       "      <th>04</th>\n",
       "      <th>05</th>\n",
       "      <th>06</th>\n",
       "      <th>07</th>\n",
       "      <th>08</th>\n",
       "      <th>...</th>\n",
       "      <th>14</th>\n",
       "      <th>15</th>\n",
       "      <th>16</th>\n",
       "      <th>17</th>\n",
       "      <th>18</th>\n",
       "      <th>19</th>\n",
       "      <th>20</th>\n",
       "      <th>21</th>\n",
       "      <th>22</th>\n",
       "      <th>23</th>\n",
       "    </tr>\n",
       "  </thead>\n",
       "  <tbody>\n",
       "    <tr>\n",
       "      <th>0</th>\n",
       "      <td>신선식품</td>\n",
       "      <td>14662</td>\n",
       "      <td>6471</td>\n",
       "      <td>3177</td>\n",
       "      <td>1858</td>\n",
       "      <td>1590</td>\n",
       "      <td>1813</td>\n",
       "      <td>4801</td>\n",
       "      <td>12443</td>\n",
       "      <td>23419</td>\n",
       "      <td>...</td>\n",
       "      <td>23853</td>\n",
       "      <td>27750</td>\n",
       "      <td>28607</td>\n",
       "      <td>28841</td>\n",
       "      <td>33893</td>\n",
       "      <td>35286</td>\n",
       "      <td>35262</td>\n",
       "      <td>35977</td>\n",
       "      <td>36576</td>\n",
       "      <td>26866</td>\n",
       "    </tr>\n",
       "    <tr>\n",
       "      <th>1</th>\n",
       "      <td>기타상품</td>\n",
       "      <td>0</td>\n",
       "      <td>0</td>\n",
       "      <td>0</td>\n",
       "      <td>0</td>\n",
       "      <td>0</td>\n",
       "      <td>0</td>\n",
       "      <td>0</td>\n",
       "      <td>0</td>\n",
       "      <td>0</td>\n",
       "      <td>...</td>\n",
       "      <td>0</td>\n",
       "      <td>3</td>\n",
       "      <td>3</td>\n",
       "      <td>1</td>\n",
       "      <td>2</td>\n",
       "      <td>2</td>\n",
       "      <td>1</td>\n",
       "      <td>3</td>\n",
       "      <td>1</td>\n",
       "      <td>0</td>\n",
       "    </tr>\n",
       "    <tr>\n",
       "      <th>2</th>\n",
       "      <td>교육/문화용품</td>\n",
       "      <td>1036</td>\n",
       "      <td>471</td>\n",
       "      <td>259</td>\n",
       "      <td>158</td>\n",
       "      <td>135</td>\n",
       "      <td>220</td>\n",
       "      <td>587</td>\n",
       "      <td>1889</td>\n",
       "      <td>3070</td>\n",
       "      <td>...</td>\n",
       "      <td>3482</td>\n",
       "      <td>3554</td>\n",
       "      <td>3846</td>\n",
       "      <td>4033</td>\n",
       "      <td>4266</td>\n",
       "      <td>4083</td>\n",
       "      <td>3711</td>\n",
       "      <td>3335</td>\n",
       "      <td>3140</td>\n",
       "      <td>1931</td>\n",
       "    </tr>\n",
       "    <tr>\n",
       "      <th>3</th>\n",
       "      <td>가구/인테리어</td>\n",
       "      <td>133</td>\n",
       "      <td>42</td>\n",
       "      <td>36</td>\n",
       "      <td>19</td>\n",
       "      <td>23</td>\n",
       "      <td>53</td>\n",
       "      <td>104</td>\n",
       "      <td>275</td>\n",
       "      <td>407</td>\n",
       "      <td>...</td>\n",
       "      <td>293</td>\n",
       "      <td>335</td>\n",
       "      <td>320</td>\n",
       "      <td>415</td>\n",
       "      <td>491</td>\n",
       "      <td>418</td>\n",
       "      <td>396</td>\n",
       "      <td>313</td>\n",
       "      <td>301</td>\n",
       "      <td>214</td>\n",
       "    </tr>\n",
       "    <tr>\n",
       "      <th>4</th>\n",
       "      <td>전문스포츠/레저</td>\n",
       "      <td>1868</td>\n",
       "      <td>903</td>\n",
       "      <td>506</td>\n",
       "      <td>342</td>\n",
       "      <td>269</td>\n",
       "      <td>439</td>\n",
       "      <td>1612</td>\n",
       "      <td>3422</td>\n",
       "      <td>4493</td>\n",
       "      <td>...</td>\n",
       "      <td>3716</td>\n",
       "      <td>3902</td>\n",
       "      <td>4060</td>\n",
       "      <td>4578</td>\n",
       "      <td>5923</td>\n",
       "      <td>5605</td>\n",
       "      <td>5464</td>\n",
       "      <td>5169</td>\n",
       "      <td>4671</td>\n",
       "      <td>3398</td>\n",
       "    </tr>\n",
       "    <tr>\n",
       "      <th>5</th>\n",
       "      <td>패션잡화</td>\n",
       "      <td>221</td>\n",
       "      <td>96</td>\n",
       "      <td>73</td>\n",
       "      <td>49</td>\n",
       "      <td>25</td>\n",
       "      <td>48</td>\n",
       "      <td>72</td>\n",
       "      <td>182</td>\n",
       "      <td>299</td>\n",
       "      <td>...</td>\n",
       "      <td>489</td>\n",
       "      <td>487</td>\n",
       "      <td>386</td>\n",
       "      <td>388</td>\n",
       "      <td>435</td>\n",
       "      <td>524</td>\n",
       "      <td>572</td>\n",
       "      <td>576</td>\n",
       "      <td>586</td>\n",
       "      <td>396</td>\n",
       "    </tr>\n",
       "    <tr>\n",
       "      <th>6</th>\n",
       "      <td>일상용품</td>\n",
       "      <td>23760</td>\n",
       "      <td>10904</td>\n",
       "      <td>5818</td>\n",
       "      <td>3766</td>\n",
       "      <td>3697</td>\n",
       "      <td>5404</td>\n",
       "      <td>14821</td>\n",
       "      <td>33247</td>\n",
       "      <td>52368</td>\n",
       "      <td>...</td>\n",
       "      <td>52766</td>\n",
       "      <td>55196</td>\n",
       "      <td>53547</td>\n",
       "      <td>51404</td>\n",
       "      <td>58779</td>\n",
       "      <td>59493</td>\n",
       "      <td>57690</td>\n",
       "      <td>59108</td>\n",
       "      <td>57851</td>\n",
       "      <td>43294</td>\n",
       "    </tr>\n",
       "    <tr>\n",
       "      <th>7</th>\n",
       "      <td>의류</td>\n",
       "      <td>0</td>\n",
       "      <td>0</td>\n",
       "      <td>0</td>\n",
       "      <td>0</td>\n",
       "      <td>0</td>\n",
       "      <td>0</td>\n",
       "      <td>1</td>\n",
       "      <td>1</td>\n",
       "      <td>0</td>\n",
       "      <td>...</td>\n",
       "      <td>0</td>\n",
       "      <td>1</td>\n",
       "      <td>1</td>\n",
       "      <td>0</td>\n",
       "      <td>2</td>\n",
       "      <td>0</td>\n",
       "      <td>2</td>\n",
       "      <td>7</td>\n",
       "      <td>0</td>\n",
       "      <td>0</td>\n",
       "    </tr>\n",
       "    <tr>\n",
       "      <th>8</th>\n",
       "      <td>의약품/의료기기</td>\n",
       "      <td>863</td>\n",
       "      <td>403</td>\n",
       "      <td>211</td>\n",
       "      <td>138</td>\n",
       "      <td>128</td>\n",
       "      <td>88</td>\n",
       "      <td>181</td>\n",
       "      <td>325</td>\n",
       "      <td>526</td>\n",
       "      <td>...</td>\n",
       "      <td>1042</td>\n",
       "      <td>1025</td>\n",
       "      <td>1096</td>\n",
       "      <td>1272</td>\n",
       "      <td>1857</td>\n",
       "      <td>1860</td>\n",
       "      <td>1694</td>\n",
       "      <td>1600</td>\n",
       "      <td>1712</td>\n",
       "      <td>1374</td>\n",
       "    </tr>\n",
       "    <tr>\n",
       "      <th>9</th>\n",
       "      <td>디지털/가전</td>\n",
       "      <td>52</td>\n",
       "      <td>15</td>\n",
       "      <td>13</td>\n",
       "      <td>8</td>\n",
       "      <td>8</td>\n",
       "      <td>5</td>\n",
       "      <td>14</td>\n",
       "      <td>43</td>\n",
       "      <td>79</td>\n",
       "      <td>...</td>\n",
       "      <td>111</td>\n",
       "      <td>105</td>\n",
       "      <td>108</td>\n",
       "      <td>98</td>\n",
       "      <td>155</td>\n",
       "      <td>112</td>\n",
       "      <td>114</td>\n",
       "      <td>114</td>\n",
       "      <td>93</td>\n",
       "      <td>69</td>\n",
       "    </tr>\n",
       "    <tr>\n",
       "      <th>10</th>\n",
       "      <td>가공식품</td>\n",
       "      <td>40211</td>\n",
       "      <td>16670</td>\n",
       "      <td>8143</td>\n",
       "      <td>5098</td>\n",
       "      <td>4229</td>\n",
       "      <td>4800</td>\n",
       "      <td>11973</td>\n",
       "      <td>28047</td>\n",
       "      <td>48123</td>\n",
       "      <td>...</td>\n",
       "      <td>46659</td>\n",
       "      <td>52858</td>\n",
       "      <td>57482</td>\n",
       "      <td>67481</td>\n",
       "      <td>90057</td>\n",
       "      <td>96272</td>\n",
       "      <td>95254</td>\n",
       "      <td>99349</td>\n",
       "      <td>99315</td>\n",
       "      <td>73912</td>\n",
       "    </tr>\n",
       "  </tbody>\n",
       "</table>\n",
       "<p>11 rows × 25 columns</p>\n",
       "</div>"
      ],
      "text/plain": [
       "         대분류     00     01    02    03    04    05     06     07     08  ...  \\\n",
       "0       신선식품  14662   6471  3177  1858  1590  1813   4801  12443  23419  ...   \n",
       "1       기타상품      0      0     0     0     0     0      0      0      0  ...   \n",
       "2    교육/문화용품   1036    471   259   158   135   220    587   1889   3070  ...   \n",
       "3    가구/인테리어    133     42    36    19    23    53    104    275    407  ...   \n",
       "4   전문스포츠/레저   1868    903   506   342   269   439   1612   3422   4493  ...   \n",
       "5       패션잡화    221     96    73    49    25    48     72    182    299  ...   \n",
       "6       일상용품  23760  10904  5818  3766  3697  5404  14821  33247  52368  ...   \n",
       "7         의류      0      0     0     0     0     0      1      1      0  ...   \n",
       "8   의약품/의료기기    863    403   211   138   128    88    181    325    526  ...   \n",
       "9     디지털/가전     52     15    13     8     8     5     14     43     79  ...   \n",
       "10      가공식품  40211  16670  8143  5098  4229  4800  11973  28047  48123  ...   \n",
       "\n",
       "       14     15     16     17     18     19     20     21     22     23  \n",
       "0   23853  27750  28607  28841  33893  35286  35262  35977  36576  26866  \n",
       "1       0      3      3      1      2      2      1      3      1      0  \n",
       "2    3482   3554   3846   4033   4266   4083   3711   3335   3140   1931  \n",
       "3     293    335    320    415    491    418    396    313    301    214  \n",
       "4    3716   3902   4060   4578   5923   5605   5464   5169   4671   3398  \n",
       "5     489    487    386    388    435    524    572    576    586    396  \n",
       "6   52766  55196  53547  51404  58779  59493  57690  59108  57851  43294  \n",
       "7       0      1      1      0      2      0      2      7      0      0  \n",
       "8    1042   1025   1096   1272   1857   1860   1694   1600   1712   1374  \n",
       "9     111    105    108     98    155    112    114    114     93     69  \n",
       "10  46659  52858  57482  67481  90057  96272  95254  99349  99315  73912  \n",
       "\n",
       "[11 rows x 25 columns]"
      ]
     },
     "metadata": {},
     "execution_count": 8
    }
   ],
   "metadata": {}
  },
  {
   "cell_type": "code",
   "execution_count": 9,
   "source": [
    "import matplotlib.pyplot as plt\n",
    "for i in range(len(hour_statistics)):\n",
    "    temp = hour_statistics.iloc[i,1:]\n",
    "    temp.plot(kind='bar')\n",
    "    print(hour_statistics.iloc[i,0])\n",
    "    plt.show()\n",
    "    print(\"\\n\\n\")"
   ],
   "outputs": [
    {
     "output_type": "stream",
     "name": "stdout",
     "text": [
      "신선식품\n"
     ]
    },
    {
     "output_type": "display_data",
     "data": {
      "image/png": "[encoded data removed]",
      "text/plain": [
       "<Figure size 432x288 with 1 Axes>"
      ]
     },
     "metadata": {
      "needs_background": "light"
     }
    },
    {
     "output_type": "stream",
     "name": "stdout",
     "text": [
      "\n",
      "\n",
      "\n",
      "기타상품\n"
     ]
    },
    {
     "output_type": "display_data",
     "data": {
      "image/png": "[encoded data removed]",
      "text/plain": [
       "<Figure size 432x288 with 1 Axes>"
      ]
     },
     "metadata": {
      "needs_background": "light"
     }
    },
    {
     "output_type": "stream",
     "name": "stdout",
     "text": [
      "\n",
      "\n",
      "\n",
      "교육/문화용품\n"
     ]
    },
    {
     "output_type": "display_data",
     "data": {
      "image/png": "[encoded data removed]",
      "text/plain": [
       "<Figure size 432x288 with 1 Axes>"
      ]
     },
     "metadata": {
      "needs_background": "light"
     }
    },
    {
     "output_type": "stream",
     "name": "stdout",
     "text": [
      "\n",
      "\n",
      "\n",
      "가구/인테리어\n"
     ]
    },
    {
     "output_type": "display_data",
     "data": {
      "image/png": "[encoded data removed]",
      "text/plain": [
       "<Figure size 432x288 with 1 Axes>"
      ]
     },
     "metadata": {
      "needs_background": "light"
     }
    },
    {
     "output_type": "stream",
     "name": "stdout",
     "text": [
      "\n",
      "\n",
      "\n",
      "전문스포츠/레저\n"
     ]
    },
    {
     "output_type": "display_data",
     "data": {
      "image/png": "[encoded data removed]",
      "text/plain": [
       "<Figure size 432x288 with 1 Axes>"
      ]
     },
     "metadata": {
      "needs_background": "light"
     }
    },
    {
     "output_type": "stream",
     "name": "stdout",
     "text": [
      "\n",
      "\n",
      "\n",
      "패션잡화\n"
     ]
    },
    {
     "output_type": "display_data",
     "data": {
      "image/png": "[encoded data removed]",
      "text/plain": [
       "<Figure size 432x288 with 1 Axes>"
      ]
     },
     "metadata": {
      "needs_background": "light"
     }
    },
    {
     "output_type": "stream",
     "name": "stdout",
     "text": [
      "\n",
      "\n",
      "\n",
      "일상용품\n"
     ]
    },
    {
     "output_type": "display_data",
     "data": {
      "image/png": "[encoded data removed]",
      "text/plain": [
       "<Figure size 432x288 with 1 Axes>"
      ]
     },
     "metadata": {
      "needs_background": "light"
     }
    },
    {
     "output_type": "stream",
     "name": "stdout",
     "text": [
      "\n",
      "\n",
      "\n",
      "의류\n"
     ]
    },
    {
     "output_type": "display_data",
     "data": {
      "image/png": "[encoded data removed]",
      "text/plain": [
       "<Figure size 432x288 with 1 Axes>"
      ]
     },
     "metadata": {
      "needs_background": "light"
     }
    },
    {
     "output_type": "stream",
     "name": "stdout",
     "text": [
      "\n",
      "\n",
      "\n",
      "의약품/의료기기\n"
     ]
    },
    {
     "output_type": "display_data",
     "data": {
      "image/png": "[encoded data removed]",
      "text/plain": [
       "<Figure size 432x288 with 1 Axes>"
      ]
     },
     "metadata": {
      "needs_background": "light"
     }
    },
    {
     "output_type": "stream",
     "name": "stdout",
     "text": [
      "\n",
      "\n",
      "\n",
      "디지털/가전\n"
     ]
    },
    {
     "output_type": "display_data",
     "data": {
      "image/png": "[encoded data removed]",
      "text/plain": [
       "<Figure size 432x288 with 1 Axes>"
      ]
     },
     "metadata": {
      "needs_background": "light"
     }
    },
    {
     "output_type": "stream",
     "name": "stdout",
     "text": [
      "\n",
      "\n",
      "\n",
      "가공식품\n"
     ]
    },
    {
     "output_type": "display_data",
     "data": {
      "image/png": "[encoded data removed]",
      "text/plain": [
       "<Figure size 432x288 with 1 Axes>"
      ]
     },
     "metadata": {
      "needs_background": "light"
     }
    },
    {
     "output_type": "stream",
     "name": "stdout",
     "text": [
      "\n",
      "\n",
      "\n"
     ]
    }
   ],
   "metadata": {}
  },
  {
   "cell_type": "code",
   "execution_count": null,
   "source": [],
   "outputs": [],
   "metadata": {}
  },
  {
   "cell_type": "code",
   "execution_count": null,
   "source": [],
   "outputs": [],
   "metadata": {}
  },
  {
   "cell_type": "code",
   "execution_count": null,
   "source": [],
   "outputs": [],
   "metadata": {}
  },
  {
   "cell_type": "code",
   "execution_count": null,
   "source": [],
   "outputs": [],
   "metadata": {}
  }
 ],
 "metadata": {
  "orig_nbformat": 4,
  "language_info": {
   "name": "python",
   "version": "3.7.10",
   "mimetype": "text/x-python",
   "codemirror_mode": {
    "name": "ipython",
    "version": 3
   },
   "pygments_lexer": "ipython3",
   "nbconvert_exporter": "python",
   "file_extension": ".py"
  },
  "kernelspec": {
   "name": "python3",
   "display_name": "Python 3.7.10 64-bit ('models': conda)"
  },
  "interpreter": {
   "hash": "8519e3defc47fad4bfeb591af706abfd0dd9dcb877ce695abb4ba2af8252511b"
  }
 },
 "nbformat": 4,
 "nbformat_minor": 2
}