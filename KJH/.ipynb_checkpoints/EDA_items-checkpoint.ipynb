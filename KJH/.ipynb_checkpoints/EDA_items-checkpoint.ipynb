{
 "cells": [
  {
   "cell_type": "code",
   "execution_count": 1,
   "metadata": {},
   "outputs": [],
   "source": [
    "import re\n",
    "import sys\n",
    "from pathlib import Path\n",
    "from collections import Counter\n",
    "from datetime import datetime, time\n",
    "\n",
    "import numpy as np\n",
    "import pandas as pd\n",
    "import plotly.express as px\n",
    "import plotly.graph_objects as go"
   ]
  },
  {
   "cell_type": "code",
   "execution_count": 2,
   "metadata": {},
   "outputs": [
    {
     "name": "stdout",
     "output_type": "stream",
     "text": [
      "['/home/jun0/Projects/emart24/emart24_codes/KJH', '/usr/lib/python38.zip', '/usr/lib/python3.8', '/usr/lib/python3.8/lib-dynload', '', '/home/jun0/.local/lib/python3.8/site-packages', '/usr/local/lib/python3.8/dist-packages', '/usr/lib/python3/dist-packages', '/home/jun0/.local/lib/python3.8/site-packages/IPython/extensions', '/home/jun0/.ipython', '/home/jun0/Projects/emart24']\n"
     ]
    }
   ],
   "source": [
    "ROOT = Path('/home/jun0/Projects/emart24')\n",
    "sys.path.append(str(ROOT))\n",
    "print(sys.path)"
   ]
  },
  {
   "cell_type": "code",
   "execution_count": null,
   "metadata": {},
   "outputs": [
    {
     "name": "stderr",
     "output_type": "stream",
     "text": [
      "/home/jun0/.local/lib/python3.8/site-packages/IPython/core/interactiveshell.py:3441: DtypeWarning: Columns (32) have mixed types.Specify dtype option on import or set low_memory=False.\n",
      "  exec(code_obj, self.user_global_ns, self.user_ns)\n",
      "/home/jun0/.local/lib/python3.8/site-packages/IPython/core/interactiveshell.py:3441: DtypeWarning: Columns (55) have mixed types.Specify dtype option on import or set low_memory=False.\n",
      "  exec(code_obj, self.user_global_ns, self.user_ns)\n",
      "/home/jun0/.local/lib/python3.8/site-packages/IPython/core/interactiveshell.py:3441: DtypeWarning: Columns (87) have mixed types.Specify dtype option on import or set low_memory=False.\n",
      "  exec(code_obj, self.user_global_ns, self.user_ns)\n"
     ]
    }
   ],
   "source": [
    "trans_filtered = pd.DataFrame()\n",
    "for f in sorted((ROOT / 'data/prep/transactions').glob('*.csv')):\n",
    "    # print(g, df.shape)\n",
    "    trans_filtered = pd.concat([trans_filtered, pd.read_csv(f)])\n",
    "trans_filtered.shape"
   ]
  },
  {
   "cell_type": "code",
   "execution_count": null,
   "metadata": {},
   "outputs": [],
   "source": [
    "trans_filtered.join(items)\n",
    "trans_filtered['YMD'] = trans_filtered['SYS_YMDHMS'].apply(lambda row: row // 1000000)\n",
    "trans_filtered['time'] = trans_filtered['SYS_YMDHMS'].apply(lambda row: f'{row % 1000000:06d}')"
   ]
  },
  {
   "cell_type": "code",
   "execution_count": null,
   "metadata": {},
   "outputs": [],
   "source": [
    "temp_df = trans_filtered['YMD'].value_counts().reset_index()\n",
    "temp_df['index'] = temp_df['index'].apply(lambda row: datetime.strptime(str(row), '%Y%m%d'))\n",
    "fig = px.bar(temp_df, x='index', y='YMD')\n",
    "fig.show()"
   ]
  },
  {
   "cell_type": "code",
   "execution_count": null,
   "metadata": {},
   "outputs": [],
   "source": [
    "temp_df = trans_filtered['time'].value_counts().reset_index().sort_values('index')\n",
    "# temp_df['index'] = temp_df['index'].apply(lambda row: time(hour=int(row[:2]), minute=int(row[2:4]), second=int(row[4:])).strftime('%H:%M:%S'))\n",
    "temp_df['index'] = temp_df['index'].apply(lambda row: time(hour=int(row[:2]), minute=int(row[2:4])).strftime('%H:%M:%S'))\n",
    "fig = px.bar(temp_df, x='index', y='time')\n",
    "fig.show()"
   ]
  },
  {
   "cell_type": "code",
   "execution_count": null,
   "metadata": {},
   "outputs": [],
   "source": []
  }
 ],
 "metadata": {
  "interpreter": {
   "hash": "7f2d371875ae4e4fa6d73942b3731616ca8ba9b5f003a5a39271aa09f91b717b"
  },
  "kernelspec": {
   "display_name": "Python 3 (ipykernel)",
   "language": "python",
   "name": "python3"
  },
  "language_info": {
   "codemirror_mode": {
    "name": "ipython",
    "version": 3
   },
   "file_extension": ".py",
   "mimetype": "text/x-python",
   "name": "python",
   "nbconvert_exporter": "python",
   "pygments_lexer": "ipython3",
   "version": "3.8.10"
  }
 },
 "nbformat": 4,
 "nbformat_minor": 4
}
