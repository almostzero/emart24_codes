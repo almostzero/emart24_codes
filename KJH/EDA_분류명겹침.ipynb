{
 "cells": [
  {
   "cell_type": "code",
   "execution_count": 1,
   "source": [
    "import re\n",
    "import sys\n",
    "from pathlib import Path\n",
    "from collections import Counter\n",
    "\n",
    "import numpy as np\n",
    "import pandas as pd\n",
    "import plotly.express as px\n",
    "import plotly.graph_objects as go"
   ],
   "outputs": [],
   "metadata": {}
  },
  {
   "cell_type": "code",
   "execution_count": 3,
   "source": [
    "ROOT = Path('/home/jun0/Projects/emart24')\n",
    "sys.path.append(str(ROOT))\n",
    "print(sys.path)"
   ],
   "outputs": [
    {
     "output_type": "stream",
     "name": "stdout",
     "text": [
      "['/home/jun0/Projects/emart24/emart24_codes/KJH', '/home/jun0/.vscode-server/extensions/ms-toolsai.jupyter-2021.8.1236758218/pythonFiles', '/home/jun0/.vscode-server/extensions/ms-toolsai.jupyter-2021.8.1236758218/pythonFiles/lib/python', '/home/jun0/.pyenv/versions/miniconda3-latest/envs/cuda110/lib/python38.zip', '/home/jun0/.pyenv/versions/miniconda3-latest/envs/cuda110/lib/python3.8', '/home/jun0/.pyenv/versions/miniconda3-latest/envs/cuda110/lib/python3.8/lib-dynload', '', '/home/jun0/.local/lib/python3.8/site-packages', '/home/jun0/.pyenv/versions/miniconda3-latest/envs/cuda110/lib/python3.8/site-packages', '/home/jun0/.local/lib/python3.8/site-packages/IPython/extensions', '/home/jun0/.ipython', '/home/jun0/Projects/emart24']\n"
     ]
    }
   ],
   "metadata": {}
  },
  {
   "cell_type": "code",
   "execution_count": 5,
   "source": [
    "# 카테고리 데이터\n",
    "category = pd.read_excel(ROOT / 'data/category.xlsx')\n",
    "category.columns = ['KAN_CODE', '전체분류', '현재분류명', '상품예시']\n",
    "\n",
    "# 상품 마스터 데이터\n",
    "item = pd.read_csv(ROOT / 'data/prep/02.설명이추가된 상품마스터_20210325.csv', sep='|', dtype=str)\n",
    "item['점포발주입수수량'] = item['점포발주입수수량'].fillna(0)\n",
    "item['공급가'] = item['공급가'].fillna(0).apply(lambda x: round(float(x)))\n",
    "item['매가'] = item['매가'].fillna(0)\n",
    "item['점포유통기한일수'] = item['점포유통기한일수'].fillna(0)\n",
    "item = item.astype({'점포발주입수수량': int, '공급가': int, '매가': int, '점포유통기한일수': int})\n",
    "\n",
    "# shapes\n",
    "category.shape, item.shape"
   ],
   "outputs": [
    {
     "output_type": "execute_result",
     "data": {
      "text/plain": [
       "((3062, 4), (49299, 46))"
      ]
     },
     "metadata": {},
     "execution_count": 5
    }
   ],
   "metadata": {}
  },
  {
   "cell_type": "code",
   "execution_count": 6,
   "source": [
    "category.head()"
   ],
   "outputs": [
    {
     "output_type": "execute_result",
     "data": {
      "text/plain": [
       "   KAN_CODE                     전체분류     현재분류명                           상품예시\n",
       "0   1010101  가공식품>조미료>종합조미료>천연/발효조미료  천연/발효조미료            다시다, 미원, 멸치가루, 버섯가루\n",
       "1   1010102        가공식품>조미료>종합조미료>식초        식초  과일초, 발효초, 감식초, 사과식초, 현미식초, 홍초\n",
       "2   1010103       가공식품>조미료>종합조미료>천일염       천일염   구운천일염, 꽃소금, 굵은소금, 가는소금, 볶은소금\n",
       "3   1010104       가공식품>조미료>종합조미료>가공염       가공염            정제염, 맛소금, 허브솔트, 깨소금\n",
       "4   1010105        가공식품>조미료>종합조미료>설탕        설탕  슈가파우더, 과당, 각설탕, 황설탕, 백설탕, 흑설탕"
      ],
      "text/html": [
       "<div>\n",
       "<style scoped>\n",
       "    .dataframe tbody tr th:only-of-type {\n",
       "        vertical-align: middle;\n",
       "    }\n",
       "\n",
       "    .dataframe tbody tr th {\n",
       "        vertical-align: top;\n",
       "    }\n",
       "\n",
       "    .dataframe thead th {\n",
       "        text-align: right;\n",
       "    }\n",
       "</style>\n",
       "<table border=\"1\" class=\"dataframe\">\n",
       "  <thead>\n",
       "    <tr style=\"text-align: right;\">\n",
       "      <th></th>\n",
       "      <th>KAN_CODE</th>\n",
       "      <th>전체분류</th>\n",
       "      <th>현재분류명</th>\n",
       "      <th>상품예시</th>\n",
       "    </tr>\n",
       "  </thead>\n",
       "  <tbody>\n",
       "    <tr>\n",
       "      <th>0</th>\n",
       "      <td>1010101</td>\n",
       "      <td>가공식품&gt;조미료&gt;종합조미료&gt;천연/발효조미료</td>\n",
       "      <td>천연/발효조미료</td>\n",
       "      <td>다시다, 미원, 멸치가루, 버섯가루</td>\n",
       "    </tr>\n",
       "    <tr>\n",
       "      <th>1</th>\n",
       "      <td>1010102</td>\n",
       "      <td>가공식품&gt;조미료&gt;종합조미료&gt;식초</td>\n",
       "      <td>식초</td>\n",
       "      <td>과일초, 발효초, 감식초, 사과식초, 현미식초, 홍초</td>\n",
       "    </tr>\n",
       "    <tr>\n",
       "      <th>2</th>\n",
       "      <td>1010103</td>\n",
       "      <td>가공식품&gt;조미료&gt;종합조미료&gt;천일염</td>\n",
       "      <td>천일염</td>\n",
       "      <td>구운천일염, 꽃소금, 굵은소금, 가는소금, 볶은소금</td>\n",
       "    </tr>\n",
       "    <tr>\n",
       "      <th>3</th>\n",
       "      <td>1010104</td>\n",
       "      <td>가공식품&gt;조미료&gt;종합조미료&gt;가공염</td>\n",
       "      <td>가공염</td>\n",
       "      <td>정제염, 맛소금, 허브솔트, 깨소금</td>\n",
       "    </tr>\n",
       "    <tr>\n",
       "      <th>4</th>\n",
       "      <td>1010105</td>\n",
       "      <td>가공식품&gt;조미료&gt;종합조미료&gt;설탕</td>\n",
       "      <td>설탕</td>\n",
       "      <td>슈가파우더, 과당, 각설탕, 황설탕, 백설탕, 흑설탕</td>\n",
       "    </tr>\n",
       "  </tbody>\n",
       "</table>\n",
       "</div>"
      ]
     },
     "metadata": {},
     "execution_count": 6
    }
   ],
   "metadata": {}
  },
  {
   "cell_type": "code",
   "execution_count": 7,
   "source": [
    "all_category = category['현재분류명']\n",
    "unique_category = set(all_category)\n",
    "len(all_category), len(unique_category)"
   ],
   "outputs": [
    {
     "output_type": "execute_result",
     "data": {
      "text/plain": [
       "(3062, 2818)"
      ]
     },
     "metadata": {},
     "execution_count": 7
    }
   ],
   "metadata": {}
  },
  {
   "cell_type": "code",
   "execution_count": 5,
   "source": [
    "# unique 한 상품명\n",
    "item_unique_bool = ~item['상품명'].duplicated()\n",
    "# 분류가 겹치는 아이템\n",
    "overlap = item_unique_bool & (item['대분류명'].isin(unique_category) | item['중분류명'].isin(unique_category) | item['소분류명'].isin(unique_category))\n",
    "\n",
    "item[overlap].shape"
   ],
   "outputs": [
    {
     "output_type": "execute_result",
     "data": {
      "text/plain": [
       "(6966, 46)"
      ]
     },
     "metadata": {},
     "execution_count": 5
    }
   ],
   "metadata": {}
  },
  {
   "cell_type": "code",
   "execution_count": 6,
   "source": [
    "대분류만 = item_unique_bool & (item['대분류명'].isin(unique_category) & ~item['중분류명'].isin(unique_category) & ~item['소분류명'].isin(unique_category))\n",
    "중분류만 = item_unique_bool & (~item['대분류명'].isin(unique_category) & item['중분류명'].isin(unique_category) & ~item['소분류명'].isin(unique_category))\n",
    "소분류만 = item_unique_bool & (~item['대분류명'].isin(unique_category) & ~item['중분류명'].isin(unique_category) & item['소분류명'].isin(unique_category))\n",
    "대중분류 = item_unique_bool & (item['대분류명'].isin(unique_category) & item['중분류명'].isin(unique_category) & ~item['소분류명'].isin(unique_category))\n",
    "중소분류 = item_unique_bool & (~item['대분류명'].isin(unique_category) & item['중분류명'].isin(unique_category) & item['소분류명'].isin(unique_category))\n",
    "대소분류 = item_unique_bool & (item['대분류명'].isin(unique_category) & ~item['중분류명'].isin(unique_category) & item['소분류명'].isin(unique_category))\n",
    "대중소분류 = item_unique_bool & (item['대분류명'].isin(unique_category) & item['중분류명'].isin(unique_category) & item['소분류명'].isin(unique_category))\n",
    "\n",
    "#비중\n",
    "print('대분류만:', 대분류만.isin([True]).sum(axis=0), ',', 대분류만.isin([True]).sum(axis=0) * 100 / item[overlap].shape[0], '%')\n",
    "print('중분류만:', 중분류만.isin([True]).sum(axis=0), ',', 중분류만.isin([True]).sum(axis=0) * 100 / item[overlap].shape[0], '%')\n",
    "print('소분류만:', 소분류만.isin([True]).sum(axis=0), ',', 소분류만.isin([True]).sum(axis=0) * 100 / item[overlap].shape[0], '%')\n",
    "print('대중분류:', 대중분류.isin([True]).sum(axis=0), ',', 대중분류.isin([True]).sum(axis=0) * 100 / item[overlap].shape[0], '%')\n",
    "print('중소분류:', 중소분류.isin([True]).sum(axis=0), ',', 중소분류.isin([True]).sum(axis=0) * 100 / item[overlap].shape[0], '%')\n",
    "print('대소분류:', 대소분류.isin([True]).sum(axis=0), ',', 대소분류.isin([True]).sum(axis=0) * 100 / item[overlap].shape[0], '%')\n",
    "print('대중소분류:', 대중소분류.isin([True]).sum(axis=0), ',', 대중소분류.isin([True]).sum(axis=0) * 100 / item[overlap].shape[0], '%')"
   ],
   "outputs": [
    {
     "output_type": "stream",
     "name": "stdout",
     "text": [
      "대분류만: 1908 , 27.39018087855297 %\n",
      "중분류만: 2789 , 40.03732414585128 %\n",
      "소분류만: 1867 , 26.801607809359748 %\n",
      "대중분류: 268 , 3.8472581108240025 %\n",
      "중소분류: 0 , 0.0 %\n",
      "대소분류: 134 , 1.9236290554120012 %\n",
      "대중소분류: 0 , 0.0 %\n"
     ]
    }
   ],
   "metadata": {}
  },
  {
   "cell_type": "code",
   "execution_count": 7,
   "source": [
    "#겹치는거 확인\n",
    "print('대분류만:', item[대분류만]['대분류명'].unique())\n",
    "print('중분류만:', item[중분류만]['중분류명'].unique())\n",
    "print('소분류만:', item[소분류만]['소분류명'].unique())\n",
    "print('대중분류:', item[대중분류]['중분류명'].unique())\n",
    "print('대소분류:', item[대소분류]['소분류명'].unique())"
   ],
   "outputs": [
    {
     "output_type": "stream",
     "name": "stdout",
     "text": [
      "대분류만: ['음료' '조리빵']\n",
      "중분류만: ['스낵' '와인' '김밥' '맥주' '우산' '소주' '전자담배']\n",
      "소분류만: ['기타가공식품' '인스턴트커피' '칫솔' '기타' '이어폰' '양말' '기타디지털/가전' '접착용품' '기타냉동식품' '각티슈'\n",
      " '시리얼' '계란' '치약' '두유' '두부' '기타면류' '탐폰' '면도기' '면도날' '한과' '식빵' '데오드란트' '위스키'\n",
      " '기타유가공품']\n",
      "대중분류: ['파우치']\n",
      "대소분류: ['숙취해소음료' '전통음료' '탄산수']\n"
     ]
    }
   ],
   "metadata": {}
  },
  {
   "cell_type": "code",
   "execution_count": 8,
   "source": [
    "item_cat = item[overlap].copy()\n",
    "item_cat = item_cat.filter(items=['상품명', '대분류명', '중분류명', '소분류명'])"
   ],
   "outputs": [],
   "metadata": {}
  },
  {
   "cell_type": "code",
   "execution_count": 9,
   "source": [
    "item_cat['대분류_bool'] = 대분류만\n",
    "item_cat['중분류_bool'] = 중분류만 | 대중분류\n",
    "item_cat['소분류_bool'] = 소분류만 | 대소분류"
   ],
   "outputs": [],
   "metadata": {}
  },
  {
   "cell_type": "code",
   "execution_count": 10,
   "source": [
    "#대분류명 '음료'의 경우 category상으로 완전히 다른 곳에 있음\n",
    "item_cat['카테고리 배치'] = np.nan\n",
    "\n",
    "for i in range(item_cat.shape[0]):\n",
    "    if item_cat['대분류_bool'].iloc[i]:\n",
    "        item_cat['카테고리 배치'].iloc[i] = item_cat['대분류명'].iloc[i]\n",
    "    elif item_cat['중분류_bool'].iloc[i]:\n",
    "        item_cat['카테고리 배치'].iloc[i] = item_cat['중분류명'].iloc[i]\n",
    "    else:\n",
    "        item_cat['카테고리 배치'].iloc[i] = item_cat['소분류명'].iloc[i]\n",
    "\n",
    "item_cat = item_cat.drop(columns=['대분류_bool', '중분류_bool', '소분류_bool'])\n",
    "item_cat"
   ],
   "outputs": [
    {
     "output_type": "stream",
     "name": "stderr",
     "text": [
      "C:\\Users\\jhkim\\anaconda3\\lib\\site-packages\\pandas\\core\\indexing.py:670: SettingWithCopyWarning: \n",
      "A value is trying to be set on a copy of a slice from a DataFrame\n",
      "\n",
      "See the caveats in the documentation: https://pandas.pydata.org/pandas-docs/stable/user_guide/indexing.html#returning-a-view-versus-a-copy\n",
      "  self._setitem_with_indexer(indexer, value)\n"
     ]
    },
    {
     "output_type": "execute_result",
     "data": {
      "text/plain": [
       "                         상품명  대분류명       중분류명      소분류명 카테고리 배치\n",
       "31                롯데)볼빅500ml    음료       수입음료      수입생수      음료\n",
       "103          위)밥한그릇뚝딱가쓰오맛27g  가공식품        대용식    기타가공식품  기타가공식품\n",
       "107          위)블루마운틴블렌드원두70g  기호식품        커피차    인스턴트커피  인스턴트커피\n",
       "135             프링글스)양파맛1400  과자/빵         스낵      감자스낵      스낵\n",
       "136            프링글스)오리지널1400  과자/빵         스낵      감자스낵      스낵\n",
       "...                      ...   ...        ...       ...     ...\n",
       "49251  농심)켈로그크랜베리아몬드그래놀라300g  가공식품        대용식       시리얼     시리얼\n",
       "49284    정식품)라잇미닛코코넛190ml16팩   유제품         우유        두유      두유\n",
       "49289      정식품)라잇미닛코코넛팩190ml   유제품         우유        두유      두유\n",
       "49293    롯데)레쓰비그란데아메리카노500ml    음료  커피음료(RTD)  커피캔음료(대)      음료\n",
       "49294            광동)흑미차500ml    음료        차음료   차음료펫(중)      음료\n",
       "\n",
       "[6966 rows x 5 columns]"
      ],
      "text/html": [
       "<div>\n",
       "<style scoped>\n",
       "    .dataframe tbody tr th:only-of-type {\n",
       "        vertical-align: middle;\n",
       "    }\n",
       "\n",
       "    .dataframe tbody tr th {\n",
       "        vertical-align: top;\n",
       "    }\n",
       "\n",
       "    .dataframe thead th {\n",
       "        text-align: right;\n",
       "    }\n",
       "</style>\n",
       "<table border=\"1\" class=\"dataframe\">\n",
       "  <thead>\n",
       "    <tr style=\"text-align: right;\">\n",
       "      <th></th>\n",
       "      <th>상품명</th>\n",
       "      <th>대분류명</th>\n",
       "      <th>중분류명</th>\n",
       "      <th>소분류명</th>\n",
       "      <th>카테고리 배치</th>\n",
       "    </tr>\n",
       "  </thead>\n",
       "  <tbody>\n",
       "    <tr>\n",
       "      <th>31</th>\n",
       "      <td>롯데)볼빅500ml</td>\n",
       "      <td>음료</td>\n",
       "      <td>수입음료</td>\n",
       "      <td>수입생수</td>\n",
       "      <td>음료</td>\n",
       "    </tr>\n",
       "    <tr>\n",
       "      <th>103</th>\n",
       "      <td>위)밥한그릇뚝딱가쓰오맛27g</td>\n",
       "      <td>가공식품</td>\n",
       "      <td>대용식</td>\n",
       "      <td>기타가공식품</td>\n",
       "      <td>기타가공식품</td>\n",
       "    </tr>\n",
       "    <tr>\n",
       "      <th>107</th>\n",
       "      <td>위)블루마운틴블렌드원두70g</td>\n",
       "      <td>기호식품</td>\n",
       "      <td>커피차</td>\n",
       "      <td>인스턴트커피</td>\n",
       "      <td>인스턴트커피</td>\n",
       "    </tr>\n",
       "    <tr>\n",
       "      <th>135</th>\n",
       "      <td>프링글스)양파맛1400</td>\n",
       "      <td>과자/빵</td>\n",
       "      <td>스낵</td>\n",
       "      <td>감자스낵</td>\n",
       "      <td>스낵</td>\n",
       "    </tr>\n",
       "    <tr>\n",
       "      <th>136</th>\n",
       "      <td>프링글스)오리지널1400</td>\n",
       "      <td>과자/빵</td>\n",
       "      <td>스낵</td>\n",
       "      <td>감자스낵</td>\n",
       "      <td>스낵</td>\n",
       "    </tr>\n",
       "    <tr>\n",
       "      <th>...</th>\n",
       "      <td>...</td>\n",
       "      <td>...</td>\n",
       "      <td>...</td>\n",
       "      <td>...</td>\n",
       "      <td>...</td>\n",
       "    </tr>\n",
       "    <tr>\n",
       "      <th>49251</th>\n",
       "      <td>농심)켈로그크랜베리아몬드그래놀라300g</td>\n",
       "      <td>가공식품</td>\n",
       "      <td>대용식</td>\n",
       "      <td>시리얼</td>\n",
       "      <td>시리얼</td>\n",
       "    </tr>\n",
       "    <tr>\n",
       "      <th>49284</th>\n",
       "      <td>정식품)라잇미닛코코넛190ml16팩</td>\n",
       "      <td>유제품</td>\n",
       "      <td>우유</td>\n",
       "      <td>두유</td>\n",
       "      <td>두유</td>\n",
       "    </tr>\n",
       "    <tr>\n",
       "      <th>49289</th>\n",
       "      <td>정식품)라잇미닛코코넛팩190ml</td>\n",
       "      <td>유제품</td>\n",
       "      <td>우유</td>\n",
       "      <td>두유</td>\n",
       "      <td>두유</td>\n",
       "    </tr>\n",
       "    <tr>\n",
       "      <th>49293</th>\n",
       "      <td>롯데)레쓰비그란데아메리카노500ml</td>\n",
       "      <td>음료</td>\n",
       "      <td>커피음료(RTD)</td>\n",
       "      <td>커피캔음료(대)</td>\n",
       "      <td>음료</td>\n",
       "    </tr>\n",
       "    <tr>\n",
       "      <th>49294</th>\n",
       "      <td>광동)흑미차500ml</td>\n",
       "      <td>음료</td>\n",
       "      <td>차음료</td>\n",
       "      <td>차음료펫(중)</td>\n",
       "      <td>음료</td>\n",
       "    </tr>\n",
       "  </tbody>\n",
       "</table>\n",
       "<p>6966 rows × 5 columns</p>\n",
       "</div>"
      ]
     },
     "metadata": {},
     "execution_count": 10
    }
   ],
   "metadata": {}
  }
 ],
 "metadata": {
  "kernelspec": {
   "name": "python3",
   "display_name": "Python 3.8.10 64-bit ('cuda110': conda)"
  },
  "language_info": {
   "codemirror_mode": {
    "name": "ipython",
    "version": 3
   },
   "file_extension": ".py",
   "mimetype": "text/x-python",
   "name": "python",
   "nbconvert_exporter": "python",
   "pygments_lexer": "ipython3",
   "version": "3.8.10"
  },
  "interpreter": {
   "hash": "7f2d371875ae4e4fa6d73942b3731616ca8ba9b5f003a5a39271aa09f91b717b"
  }
 },
 "nbformat": 4,
 "nbformat_minor": 4
}